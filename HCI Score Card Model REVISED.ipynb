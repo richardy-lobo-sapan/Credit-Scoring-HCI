{
 "cells": [
  {
   "cell_type": "markdown",
   "id": "8817d4f9",
   "metadata": {},
   "source": [
    "Not Finished Yet"
   ]
  },
  {
   "cell_type": "markdown",
   "id": "b39b19b5",
   "metadata": {},
   "source": [
    "# HOME CREDIT SCORE CARD MODEL"
   ]
  },
  {
   "cell_type": "markdown",
   "id": "747616a2",
   "metadata": {},
   "source": [
    "**Project Background**: \n",
    "\n",
    "Home Credit saat ini sedang menggunakan berbagai macam metode statistik dan Machine Learning untuk membuat prediksi skor kredit. Sekarang, kami meminta anda untuk membuka potensi maksimal dari data kami. Dengan melakukannya, kita dapat memastikan pelanggan yang mampu melakukan pelunasan tidak ditolak ketika melakukan pengajuan pinjaman, dan pinjaman datap diberikan dengan principal, maturity, dan repayment calendar yang akan memotivsi pelanggan untuk sukses. Evaluasi akan dilakukan dengan mengecek seberapa dalam pemahaman analisa yang anda kerjakan. Sebagai catatan, anda perlu menggunakan setidaknya 2 model Machine Learning dimana salah satunya adalah Logistic Regression. Setelah itu, buatlah slide presentasi yang mengandung analisa hasil pemodelan secara end-to-end beserta rekomendasi bisnisnya.\n",
    "\n",
    "**Objectives**:\n",
    "\n",
    "1. Identify characteristics of potential clients who will have difficulty repaying loans.\n",
    "2. Predict client’s repayment abilities.\n",
    "\n",
    "**Actions**:\n",
    "\n",
    "1. Perform data cleaning, and visualization for business insights.\n",
    "2. Build a models with machine learning algorithms.\n",
    "3. Predict client's repayment abilities on application data test with best machine learning model.\n",
    "4. Provide recommendations for company to increase their clients succeed in applying for loans."
   ]
  },
  {
   "cell_type": "markdown",
   "id": "eb638cb3",
   "metadata": {},
   "source": [
    "## Load Dataset"
   ]
  },
  {
   "cell_type": "code",
   "execution_count": 1,
   "id": "cba0846c",
   "metadata": {},
   "outputs": [],
   "source": [
    "# import libraries\n",
    "import pandas as pd\n",
    "import numpy as np\n",
    "import seaborn as sns\n",
    "import matplotlib.pyplot as plt\n",
    "\n",
    "from sklearn.preprocessing import LabelEncoder\n",
    "from sklearn.feature_selection import SelectKBest #feature selection\n",
    "from sklearn.feature_selection import chi2\n",
    "from sklearn.utils import resample #re-sampling\n",
    "from sklearn.model_selection import train_test_split #data splitting\n",
    "from sklearn.preprocessing import StandardScaler #normalize features\n",
    "\n",
    "from sklearn.linear_model import LogisticRegression #logistic regression\n",
    "from sklearn.naive_bayes import GaussianNB #gaussian naive bayes\n",
    "from sklearn import tree\n",
    "from sklearn.tree import DecisionTreeClassifier #decision tree\n",
    "from sklearn.ensemble import RandomForestClassifier #random forest\n",
    "from sklearn.neighbors import KNeighborsClassifier #k-nearest neighbor\n",
    "from sklearn.neural_network import MLPClassifier #neural network\n",
    "from sklearn.metrics import confusion_matrix, classification_report \n",
    "from sklearn.metrics import roc_auc_score #roc score"
   ]
  },
  {
   "cell_type": "code",
   "execution_count": 2,
   "id": "d9207208",
   "metadata": {},
   "outputs": [],
   "source": [
    "pd.set_option('display.max_columns', None)\n",
    "pd.set_option('display.max_rows', None)"
   ]
  },
  {
   "cell_type": "markdown",
   "id": "a839028a",
   "metadata": {},
   "source": [
    "### Main Dataset"
   ]
  },
  {
   "cell_type": "markdown",
   "id": "ca6c8fdc",
   "metadata": {},
   "source": [
    "#### Data Application (Train)"
   ]
  },
  {
   "cell_type": "code",
   "execution_count": 3,
   "id": "efea1be2",
   "metadata": {},
   "outputs": [
    {
     "ename": "FileNotFoundError",
     "evalue": "[Errno 2] No such file or directory: 'application_train.csv'",
     "output_type": "error",
     "traceback": [
      "\u001b[1;31m---------------------------------------------------------------------------\u001b[0m",
      "\u001b[1;31mFileNotFoundError\u001b[0m                         Traceback (most recent call last)",
      "\u001b[1;32m<ipython-input-3-585c10f1e072>\u001b[0m in \u001b[0;36m<module>\u001b[1;34m\u001b[0m\n\u001b[0;32m      1\u001b[0m \u001b[1;31m# data application (train)\u001b[0m\u001b[1;33m\u001b[0m\u001b[1;33m\u001b[0m\u001b[1;33m\u001b[0m\u001b[0m\n\u001b[1;32m----> 2\u001b[1;33m \u001b[0mdf_train\u001b[0m \u001b[1;33m=\u001b[0m \u001b[0mpd\u001b[0m\u001b[1;33m.\u001b[0m\u001b[0mread_csv\u001b[0m\u001b[1;33m(\u001b[0m\u001b[1;34m\"application_train.csv\"\u001b[0m\u001b[1;33m,\u001b[0m \u001b[0msep\u001b[0m\u001b[1;33m=\u001b[0m\u001b[1;34m','\u001b[0m\u001b[1;33m)\u001b[0m\u001b[1;33m\u001b[0m\u001b[1;33m\u001b[0m\u001b[0m\n\u001b[0m\u001b[0;32m      3\u001b[0m \u001b[0mprint\u001b[0m\u001b[1;33m(\u001b[0m\u001b[1;34m'This dataset has %d rows dan %d columns.\\n'\u001b[0m \u001b[1;33m%\u001b[0m \u001b[0mdf_train\u001b[0m\u001b[1;33m.\u001b[0m\u001b[0mshape\u001b[0m\u001b[1;33m)\u001b[0m\u001b[1;33m\u001b[0m\u001b[1;33m\u001b[0m\u001b[0m\n\u001b[0;32m      4\u001b[0m \u001b[0mdf_train\u001b[0m\u001b[1;33m.\u001b[0m\u001b[0mhead\u001b[0m\u001b[1;33m(\u001b[0m\u001b[1;33m)\u001b[0m\u001b[1;33m\u001b[0m\u001b[1;33m\u001b[0m\u001b[0m\n",
      "\u001b[1;32m~\\anaconda3\\lib\\site-packages\\pandas\\io\\parsers.py\u001b[0m in \u001b[0;36mread_csv\u001b[1;34m(filepath_or_buffer, sep, delimiter, header, names, index_col, usecols, squeeze, prefix, mangle_dupe_cols, dtype, engine, converters, true_values, false_values, skipinitialspace, skiprows, skipfooter, nrows, na_values, keep_default_na, na_filter, verbose, skip_blank_lines, parse_dates, infer_datetime_format, keep_date_col, date_parser, dayfirst, cache_dates, iterator, chunksize, compression, thousands, decimal, lineterminator, quotechar, quoting, doublequote, escapechar, comment, encoding, dialect, error_bad_lines, warn_bad_lines, delim_whitespace, low_memory, memory_map, float_precision, storage_options)\u001b[0m\n\u001b[0;32m    608\u001b[0m     \u001b[0mkwds\u001b[0m\u001b[1;33m.\u001b[0m\u001b[0mupdate\u001b[0m\u001b[1;33m(\u001b[0m\u001b[0mkwds_defaults\u001b[0m\u001b[1;33m)\u001b[0m\u001b[1;33m\u001b[0m\u001b[1;33m\u001b[0m\u001b[0m\n\u001b[0;32m    609\u001b[0m \u001b[1;33m\u001b[0m\u001b[0m\n\u001b[1;32m--> 610\u001b[1;33m     \u001b[1;32mreturn\u001b[0m \u001b[0m_read\u001b[0m\u001b[1;33m(\u001b[0m\u001b[0mfilepath_or_buffer\u001b[0m\u001b[1;33m,\u001b[0m \u001b[0mkwds\u001b[0m\u001b[1;33m)\u001b[0m\u001b[1;33m\u001b[0m\u001b[1;33m\u001b[0m\u001b[0m\n\u001b[0m\u001b[0;32m    611\u001b[0m \u001b[1;33m\u001b[0m\u001b[0m\n\u001b[0;32m    612\u001b[0m \u001b[1;33m\u001b[0m\u001b[0m\n",
      "\u001b[1;32m~\\anaconda3\\lib\\site-packages\\pandas\\io\\parsers.py\u001b[0m in \u001b[0;36m_read\u001b[1;34m(filepath_or_buffer, kwds)\u001b[0m\n\u001b[0;32m    460\u001b[0m \u001b[1;33m\u001b[0m\u001b[0m\n\u001b[0;32m    461\u001b[0m     \u001b[1;31m# Create the parser.\u001b[0m\u001b[1;33m\u001b[0m\u001b[1;33m\u001b[0m\u001b[1;33m\u001b[0m\u001b[0m\n\u001b[1;32m--> 462\u001b[1;33m     \u001b[0mparser\u001b[0m \u001b[1;33m=\u001b[0m \u001b[0mTextFileReader\u001b[0m\u001b[1;33m(\u001b[0m\u001b[0mfilepath_or_buffer\u001b[0m\u001b[1;33m,\u001b[0m \u001b[1;33m**\u001b[0m\u001b[0mkwds\u001b[0m\u001b[1;33m)\u001b[0m\u001b[1;33m\u001b[0m\u001b[1;33m\u001b[0m\u001b[0m\n\u001b[0m\u001b[0;32m    463\u001b[0m \u001b[1;33m\u001b[0m\u001b[0m\n\u001b[0;32m    464\u001b[0m     \u001b[1;32mif\u001b[0m \u001b[0mchunksize\u001b[0m \u001b[1;32mor\u001b[0m \u001b[0miterator\u001b[0m\u001b[1;33m:\u001b[0m\u001b[1;33m\u001b[0m\u001b[1;33m\u001b[0m\u001b[0m\n",
      "\u001b[1;32m~\\anaconda3\\lib\\site-packages\\pandas\\io\\parsers.py\u001b[0m in \u001b[0;36m__init__\u001b[1;34m(self, f, engine, **kwds)\u001b[0m\n\u001b[0;32m    817\u001b[0m             \u001b[0mself\u001b[0m\u001b[1;33m.\u001b[0m\u001b[0moptions\u001b[0m\u001b[1;33m[\u001b[0m\u001b[1;34m\"has_index_names\"\u001b[0m\u001b[1;33m]\u001b[0m \u001b[1;33m=\u001b[0m \u001b[0mkwds\u001b[0m\u001b[1;33m[\u001b[0m\u001b[1;34m\"has_index_names\"\u001b[0m\u001b[1;33m]\u001b[0m\u001b[1;33m\u001b[0m\u001b[1;33m\u001b[0m\u001b[0m\n\u001b[0;32m    818\u001b[0m \u001b[1;33m\u001b[0m\u001b[0m\n\u001b[1;32m--> 819\u001b[1;33m         \u001b[0mself\u001b[0m\u001b[1;33m.\u001b[0m\u001b[0m_engine\u001b[0m \u001b[1;33m=\u001b[0m \u001b[0mself\u001b[0m\u001b[1;33m.\u001b[0m\u001b[0m_make_engine\u001b[0m\u001b[1;33m(\u001b[0m\u001b[0mself\u001b[0m\u001b[1;33m.\u001b[0m\u001b[0mengine\u001b[0m\u001b[1;33m)\u001b[0m\u001b[1;33m\u001b[0m\u001b[1;33m\u001b[0m\u001b[0m\n\u001b[0m\u001b[0;32m    820\u001b[0m \u001b[1;33m\u001b[0m\u001b[0m\n\u001b[0;32m    821\u001b[0m     \u001b[1;32mdef\u001b[0m \u001b[0mclose\u001b[0m\u001b[1;33m(\u001b[0m\u001b[0mself\u001b[0m\u001b[1;33m)\u001b[0m\u001b[1;33m:\u001b[0m\u001b[1;33m\u001b[0m\u001b[1;33m\u001b[0m\u001b[0m\n",
      "\u001b[1;32m~\\anaconda3\\lib\\site-packages\\pandas\\io\\parsers.py\u001b[0m in \u001b[0;36m_make_engine\u001b[1;34m(self, engine)\u001b[0m\n\u001b[0;32m   1048\u001b[0m             )\n\u001b[0;32m   1049\u001b[0m         \u001b[1;31m# error: Too many arguments for \"ParserBase\"\u001b[0m\u001b[1;33m\u001b[0m\u001b[1;33m\u001b[0m\u001b[1;33m\u001b[0m\u001b[0m\n\u001b[1;32m-> 1050\u001b[1;33m         \u001b[1;32mreturn\u001b[0m \u001b[0mmapping\u001b[0m\u001b[1;33m[\u001b[0m\u001b[0mengine\u001b[0m\u001b[1;33m]\u001b[0m\u001b[1;33m(\u001b[0m\u001b[0mself\u001b[0m\u001b[1;33m.\u001b[0m\u001b[0mf\u001b[0m\u001b[1;33m,\u001b[0m \u001b[1;33m**\u001b[0m\u001b[0mself\u001b[0m\u001b[1;33m.\u001b[0m\u001b[0moptions\u001b[0m\u001b[1;33m)\u001b[0m  \u001b[1;31m# type: ignore[call-arg]\u001b[0m\u001b[1;33m\u001b[0m\u001b[1;33m\u001b[0m\u001b[0m\n\u001b[0m\u001b[0;32m   1051\u001b[0m \u001b[1;33m\u001b[0m\u001b[0m\n\u001b[0;32m   1052\u001b[0m     \u001b[1;32mdef\u001b[0m \u001b[0m_failover_to_python\u001b[0m\u001b[1;33m(\u001b[0m\u001b[0mself\u001b[0m\u001b[1;33m)\u001b[0m\u001b[1;33m:\u001b[0m\u001b[1;33m\u001b[0m\u001b[1;33m\u001b[0m\u001b[0m\n",
      "\u001b[1;32m~\\anaconda3\\lib\\site-packages\\pandas\\io\\parsers.py\u001b[0m in \u001b[0;36m__init__\u001b[1;34m(self, src, **kwds)\u001b[0m\n\u001b[0;32m   1865\u001b[0m \u001b[1;33m\u001b[0m\u001b[0m\n\u001b[0;32m   1866\u001b[0m         \u001b[1;31m# open handles\u001b[0m\u001b[1;33m\u001b[0m\u001b[1;33m\u001b[0m\u001b[1;33m\u001b[0m\u001b[0m\n\u001b[1;32m-> 1867\u001b[1;33m         \u001b[0mself\u001b[0m\u001b[1;33m.\u001b[0m\u001b[0m_open_handles\u001b[0m\u001b[1;33m(\u001b[0m\u001b[0msrc\u001b[0m\u001b[1;33m,\u001b[0m \u001b[0mkwds\u001b[0m\u001b[1;33m)\u001b[0m\u001b[1;33m\u001b[0m\u001b[1;33m\u001b[0m\u001b[0m\n\u001b[0m\u001b[0;32m   1868\u001b[0m         \u001b[1;32massert\u001b[0m \u001b[0mself\u001b[0m\u001b[1;33m.\u001b[0m\u001b[0mhandles\u001b[0m \u001b[1;32mis\u001b[0m \u001b[1;32mnot\u001b[0m \u001b[1;32mNone\u001b[0m\u001b[1;33m\u001b[0m\u001b[1;33m\u001b[0m\u001b[0m\n\u001b[0;32m   1869\u001b[0m         \u001b[1;32mfor\u001b[0m \u001b[0mkey\u001b[0m \u001b[1;32min\u001b[0m \u001b[1;33m(\u001b[0m\u001b[1;34m\"storage_options\"\u001b[0m\u001b[1;33m,\u001b[0m \u001b[1;34m\"encoding\"\u001b[0m\u001b[1;33m,\u001b[0m \u001b[1;34m\"memory_map\"\u001b[0m\u001b[1;33m,\u001b[0m \u001b[1;34m\"compression\"\u001b[0m\u001b[1;33m)\u001b[0m\u001b[1;33m:\u001b[0m\u001b[1;33m\u001b[0m\u001b[1;33m\u001b[0m\u001b[0m\n",
      "\u001b[1;32m~\\anaconda3\\lib\\site-packages\\pandas\\io\\parsers.py\u001b[0m in \u001b[0;36m_open_handles\u001b[1;34m(self, src, kwds)\u001b[0m\n\u001b[0;32m   1360\u001b[0m         \u001b[0mLet\u001b[0m \u001b[0mthe\u001b[0m \u001b[0mreaders\u001b[0m \u001b[0mopen\u001b[0m \u001b[0mIOHanldes\u001b[0m \u001b[0mafter\u001b[0m \u001b[0mthey\u001b[0m \u001b[0mare\u001b[0m \u001b[0mdone\u001b[0m \u001b[1;32mwith\u001b[0m \u001b[0mtheir\u001b[0m \u001b[0mpotential\u001b[0m \u001b[0mraises\u001b[0m\u001b[1;33m.\u001b[0m\u001b[1;33m\u001b[0m\u001b[1;33m\u001b[0m\u001b[0m\n\u001b[0;32m   1361\u001b[0m         \"\"\"\n\u001b[1;32m-> 1362\u001b[1;33m         self.handles = get_handle(\n\u001b[0m\u001b[0;32m   1363\u001b[0m             \u001b[0msrc\u001b[0m\u001b[1;33m,\u001b[0m\u001b[1;33m\u001b[0m\u001b[1;33m\u001b[0m\u001b[0m\n\u001b[0;32m   1364\u001b[0m             \u001b[1;34m\"r\"\u001b[0m\u001b[1;33m,\u001b[0m\u001b[1;33m\u001b[0m\u001b[1;33m\u001b[0m\u001b[0m\n",
      "\u001b[1;32m~\\anaconda3\\lib\\site-packages\\pandas\\io\\common.py\u001b[0m in \u001b[0;36mget_handle\u001b[1;34m(path_or_buf, mode, encoding, compression, memory_map, is_text, errors, storage_options)\u001b[0m\n\u001b[0;32m    640\u001b[0m                 \u001b[0merrors\u001b[0m \u001b[1;33m=\u001b[0m \u001b[1;34m\"replace\"\u001b[0m\u001b[1;33m\u001b[0m\u001b[1;33m\u001b[0m\u001b[0m\n\u001b[0;32m    641\u001b[0m             \u001b[1;31m# Encoding\u001b[0m\u001b[1;33m\u001b[0m\u001b[1;33m\u001b[0m\u001b[1;33m\u001b[0m\u001b[0m\n\u001b[1;32m--> 642\u001b[1;33m             handle = open(\n\u001b[0m\u001b[0;32m    643\u001b[0m                 \u001b[0mhandle\u001b[0m\u001b[1;33m,\u001b[0m\u001b[1;33m\u001b[0m\u001b[1;33m\u001b[0m\u001b[0m\n\u001b[0;32m    644\u001b[0m                 \u001b[0mioargs\u001b[0m\u001b[1;33m.\u001b[0m\u001b[0mmode\u001b[0m\u001b[1;33m,\u001b[0m\u001b[1;33m\u001b[0m\u001b[1;33m\u001b[0m\u001b[0m\n",
      "\u001b[1;31mFileNotFoundError\u001b[0m: [Errno 2] No such file or directory: 'application_train.csv'"
     ]
    }
   ],
   "source": [
    "# data application (train)\n",
    "df_train = pd.read_csv(\"application_train.csv\", sep=',')\n",
    "print('This dataset has %d rows dan %d columns.\\n' % df_train.shape)\n",
    "df_train.head()"
   ]
  },
  {
   "cell_type": "markdown",
   "id": "87e727ec",
   "metadata": {},
   "source": [
    "There are total 307,511 rows which contains the information of loans and there are 122 features.\n",
    "\n",
    "The `TARGET` feature defines if the client had payment difficulties meaning he/she had late payment more than X days on at least one of the first Y installments of the loan. Such case is marked as 1 while other all other cases as 0."
   ]
  },
  {
   "cell_type": "markdown",
   "id": "56b054bc",
   "metadata": {},
   "source": [
    "## Exploratory Data Analysis (EDA)"
   ]
  },
  {
   "cell_type": "markdown",
   "id": "acefac26",
   "metadata": {},
   "source": [
    "### Check Data Types"
   ]
  },
  {
   "cell_type": "code",
   "execution_count": null,
   "id": "42ca4a50",
   "metadata": {
    "scrolled": false
   },
   "outputs": [],
   "source": [
    "print('Data types: \\n')\n",
    "df_train.info(verbose=True)"
   ]
  },
  {
   "cell_type": "markdown",
   "id": "52495987",
   "metadata": {},
   "source": [
    "### Visualization"
   ]
  },
  {
   "cell_type": "code",
   "execution_count": null,
   "id": "c7f46814",
   "metadata": {},
   "outputs": [],
   "source": [
    "train = df_train.copy()"
   ]
  },
  {
   "cell_type": "markdown",
   "id": "d15bbf17",
   "metadata": {},
   "source": [
    "#### Univearite : The Number of Customers Based on Their Repayment Abilities"
   ]
  },
  {
   "cell_type": "code",
   "execution_count": null,
   "id": "bfbafffa",
   "metadata": {},
   "outputs": [],
   "source": [
    "decode_map = {0: \"No Payment Difficulties\", 1: \"Payment Difficulties\"}\n",
    "def decode_sentiment(label):\n",
    "    return decode_map[int(label)]\n",
    "\n",
    "train['TARGET'] = train['TARGET'].apply(lambda x: decode_sentiment(x))"
   ]
  },
  {
   "cell_type": "code",
   "execution_count": null,
   "id": "0f0248b0",
   "metadata": {},
   "outputs": [],
   "source": [
    "target_grp = (train[['TARGET']]\n",
    "                .groupby(\"TARGET\")\n",
    "                .agg(COUNT=(\"TARGET\",\"count\"))\n",
    "                .sort_values(by=[\"COUNT\"],ascending=False)\n",
    "                .reset_index()\n",
    "                )\n",
    "\n",
    "target_grp.style.background_gradient(cmap='Blues')"
   ]
  },
  {
   "cell_type": "code",
   "execution_count": null,
   "id": "58f1a71d",
   "metadata": {},
   "outputs": [],
   "source": [
    "grp = train['TARGET'].value_counts(normalize=True)\n",
    "grp.reset_index().style.background_gradient(cmap='Blues')"
   ]
  },
  {
   "cell_type": "code",
   "execution_count": null,
   "id": "8456a03f",
   "metadata": {
    "scrolled": false
   },
   "outputs": [],
   "source": [
    "fig = plt.figure(figsize = (12,7))\n",
    "grp.plot(kind='bar', color= ['lightgrey','midnightblue'], alpha = 0.9, rot=0)\n",
    "plt.title('The Distribution of Clients Repayment Abilities\\n', fontsize=14)\n",
    "plt.show()"
   ]
  },
  {
   "cell_type": "markdown",
   "id": "6725964e",
   "metadata": {},
   "source": [
    "There are about 91% loans which is equal to about 282K with `TARGET` = 0, which indicates that client did not had any problems in repaying the loan in given time. While only 9% of the total loans (about 24K applicants) in this dataset involved the clients having problems in repaying the loan.\n",
    "\n",
    "**Note**: This dataset is imbalanced and it does require special treatment or resampling. The resampling step will be carried out in the model building section."
   ]
  },
  {
   "cell_type": "markdown",
   "id": "1f185669",
   "metadata": {},
   "source": [
    "#### Bivariate: Categorical Features Vs Target"
   ]
  },
  {
   "cell_type": "markdown",
   "id": "e1639229",
   "metadata": {},
   "source": [
    "##### Contract Type, Gender, Car Ownership Status, and Realty Ownership Status"
   ]
  },
  {
   "cell_type": "code",
   "execution_count": null,
   "id": "ff8bf487",
   "metadata": {},
   "outputs": [],
   "source": [
    "# visualization pt 1\n",
    "sns.set_style('whitegrid')\n",
    "fig, ax = plt.subplots(2,2, figsize=(25,25))\n",
    "sns.set_context('paper', font_scale=1)\n",
    "\n",
    "ax[0][0].set_title('Clients Repayment Abilities By Contract Type\\n', fontweight='bold', fontsize=14)\n",
    "sns.countplot(x='NAME_CONTRACT_TYPE', data = train, hue = 'TARGET', palette = 'ch:start=0.2,rot=-.3_r', ax=ax[0][0])\n",
    "\n",
    "ax[0][1].set_title('Clients Repayment Abilities By Gender\\n', fontweight='bold', fontsize=14)\n",
    "sns.countplot(x='CODE_GENDER', data = train, hue = 'TARGET', palette = 'ch:start=0.2,rot=-.3_r', ax=ax[0][1])\n",
    "\n",
    "ax[1][0].set_title('\\nClients Repayment Abilities By Car Ownership Status\\n', fontweight='bold', fontsize=14)\n",
    "sns.countplot(x='FLAG_OWN_CAR', data = train, hue = 'TARGET', palette = 'ch:start=0.2,rot=-.3_r', ax=ax[1][0])\n",
    "\n",
    "ax[1][1].set_title('\\nClients Repayment Abilities By Realty Ownership Status\\n', fontweight='bold', fontsize=14)\n",
    "sns.countplot(x='FLAG_OWN_REALTY', data = train, hue = 'TARGET', palette = 'ch:start=0.2,rot=-.3_r', ax=ax[1][1])"
   ]
  },
  {
   "cell_type": "markdown",
   "id": "b041ffd4",
   "metadata": {},
   "source": [
    "##### Contract Type Vs Target"
   ]
  },
  {
   "cell_type": "code",
   "execution_count": null,
   "id": "b345cbe0",
   "metadata": {},
   "outputs": [],
   "source": [
    "ct = train.groupby(by=['NAME_CONTRACT_TYPE','TARGET'], as_index=False)['SK_ID_CURR'].count()\n",
    "print('Clients Repayment Abilities By Contract Type')\n",
    "ct.sort_values(by='SK_ID_CURR', ascending=False)\n",
    "ct.style.background_gradient(cmap='Blues')"
   ]
  },
  {
   "cell_type": "markdown",
   "id": "3f382226",
   "metadata": {},
   "source": [
    "**Cash loans** with around 278K loans accounted for the majority of total loans in this dataset. **Revolving loans** have a much lower amount of around 29K compared to cash loans."
   ]
  },
  {
   "cell_type": "markdown",
   "id": "6732d0e4",
   "metadata": {},
   "source": [
    "##### Gender Vs Target"
   ]
  },
  {
   "cell_type": "code",
   "execution_count": null,
   "id": "03b7f0fb",
   "metadata": {},
   "outputs": [],
   "source": [
    "train['CODE_GENDER'] = train['CODE_GENDER'].replace(['F','M'],['Female','Male'])"
   ]
  },
  {
   "cell_type": "code",
   "execution_count": null,
   "id": "273303c0",
   "metadata": {},
   "outputs": [],
   "source": [
    "gt = train.groupby(by=['CODE_GENDER','TARGET'], as_index=False)['SK_ID_CURR'].count()\n",
    "print('Clients Repayment Abilities By Gender')\n",
    "gt.sort_values(by='SK_ID_CURR', ascending=False)\n",
    "gt.style.background_gradient(cmap='Blues')"
   ]
  },
  {
   "cell_type": "code",
   "execution_count": null,
   "id": "5631caf6",
   "metadata": {},
   "outputs": [],
   "source": [
    "df_train[['CODE_GENDER','TARGET']].groupby(['CODE_GENDER'],as_index=False).mean().sort_values(by=['TARGET'], ascending=False)"
   ]
  },
  {
   "cell_type": "markdown",
   "id": "4d617ac7",
   "metadata": {},
   "source": [
    "It can be seen that women have applied for a larger majority of loans. In total, there are about 202,448 loan applications applied by women, and about 105,059 applications applied by men. \n",
    "\n",
    "However, a larger percentage (about 10% of the total) of **men** had the problems repaying the loan compared to women clients (about 7%)."
   ]
  },
  {
   "cell_type": "markdown",
   "id": "c8262826",
   "metadata": {},
   "source": [
    "##### Car Ownership Status Vs Target"
   ]
  },
  {
   "cell_type": "code",
   "execution_count": null,
   "id": "99fca341",
   "metadata": {},
   "outputs": [],
   "source": [
    "train['FLAG_OWN_CAR'] = train['FLAG_OWN_CAR'].replace(['Y','N'],['Yes','No'])"
   ]
  },
  {
   "cell_type": "code",
   "execution_count": null,
   "id": "8010fc87",
   "metadata": {},
   "outputs": [],
   "source": [
    "ot = train.groupby(by=['FLAG_OWN_CAR','TARGET'], as_index=False)['SK_ID_CURR'].count()\n",
    "print('Clients Repayment Abilities By Car Ownership Status')\n",
    "ot.sort_values(by='SK_ID_CURR', ascending=False)\n",
    "ot.style.background_gradient(cmap='Blues')"
   ]
  },
  {
   "cell_type": "code",
   "execution_count": null,
   "id": "95128099",
   "metadata": {},
   "outputs": [],
   "source": [
    "df_train[['FLAG_OWN_CAR','TARGET']].groupby(['FLAG_OWN_CAR'],as_index=False).mean().sort_values(by=['TARGET'], ascending=False)"
   ]
  },
  {
   "cell_type": "markdown",
   "id": "749a98e1",
   "metadata": {},
   "source": [
    "Most of the clients do not own a car.\n",
    "\n",
    "Clients who **own a car** (about 8%) had the problems in repaying the loan compared to clients who not own a car (about 7%). However, the difference is not very significant."
   ]
  },
  {
   "cell_type": "markdown",
   "id": "d35627f9",
   "metadata": {},
   "source": [
    "##### Realty Ownership Status Vs Target"
   ]
  },
  {
   "cell_type": "code",
   "execution_count": null,
   "id": "138ae818",
   "metadata": {},
   "outputs": [],
   "source": [
    "train['FLAG_OWN_REALTY'] = train['FLAG_OWN_REALTY'].replace(['Y','N'],['Yes','No'])"
   ]
  },
  {
   "cell_type": "code",
   "execution_count": null,
   "id": "219a0f26",
   "metadata": {},
   "outputs": [],
   "source": [
    "rt = train.groupby(by=['FLAG_OWN_REALTY','TARGET'], as_index=False)['SK_ID_CURR'].count()\n",
    "print('Clients Repayment Abilities By Realty Ownership Status')\n",
    "rt.sort_values(by='SK_ID_CURR', ascending=False)\n",
    "rt.style.background_gradient(cmap='Blues')"
   ]
  },
  {
   "cell_type": "code",
   "execution_count": null,
   "id": "aa08158d",
   "metadata": {},
   "outputs": [],
   "source": [
    "df_train[['FLAG_OWN_REALTY','TARGET']].groupby(['FLAG_OWN_REALTY'],as_index=False).mean().sort_values(by=['TARGET'], ascending=False)"
   ]
  },
  {
   "cell_type": "markdown",
   "id": "126a1874",
   "metadata": {},
   "source": [
    "Most of the clients own a flat/house.\n",
    "\n",
    "Clients who **own a house/flat** (about 8%) had the problems in repaying the loan compared to clients who not own a house/flat (about 7%). However, the difference is not very significant."
   ]
  },
  {
   "cell_type": "markdown",
   "id": "1238328b",
   "metadata": {},
   "source": [
    "##### Suite Type, Income Type, Education Type, and Family Status"
   ]
  },
  {
   "cell_type": "code",
   "execution_count": null,
   "id": "605f5989",
   "metadata": {},
   "outputs": [],
   "source": [
    "# visualization pt. 2\n",
    "sns.set_style('whitegrid')\n",
    "fig, ax = plt.subplots(2,2, figsize=(25,35))\n",
    "sns.set_context('paper', font_scale=1)\n",
    "\n",
    "ax[0][0].set_title('Clients Repayment Abilities By Suite Type\\n', fontweight='bold', fontsize=14)\n",
    "sns.countplot(x='NAME_TYPE_SUITE', data = train, hue = 'TARGET', palette = 'ch:start=0.2,rot=-.3_r', ax=ax[0][0])\n",
    "\n",
    "ax[0][1].set_title('Clients Repayment Abilities By Income Type\\n', fontweight='bold', fontsize=14)\n",
    "sns.countplot(x='NAME_INCOME_TYPE', data = train, hue = 'TARGET', palette = 'ch:start=0.2,rot=-.3_r', ax=ax[0][1])\n",
    "\n",
    "ax[1][0].set_title('\\nClients Repayment Abilities By Education Type)\\n', fontweight='bold', fontsize=14)\n",
    "sns.countplot(x='NAME_EDUCATION_TYPE', data = train, hue = 'TARGET', palette = 'ch:start=0.2,rot=-.3_r', ax=ax[1][0])\n",
    "\n",
    "ax[1][1].set_title('\\nClients Repayment Abilities By Family Status\\n', fontweight='bold', fontsize=14)\n",
    "sns.countplot(x='NAME_FAMILY_STATUS', data = train, hue = 'TARGET', palette = 'ch:start=0.2,rot=-.3_r', ax=ax[1][1])"
   ]
  },
  {
   "cell_type": "markdown",
   "id": "4d1d95cc",
   "metadata": {},
   "source": [
    "##### Suite Type Vs Target"
   ]
  },
  {
   "cell_type": "code",
   "execution_count": null,
   "id": "865f6b56",
   "metadata": {},
   "outputs": [],
   "source": [
    "st = train.groupby(by=['NAME_TYPE_SUITE','TARGET'], as_index=False)['SK_ID_CURR'].count()\n",
    "print('Clients Repayment Abilities By Suite Type')\n",
    "st.sort_values(by='SK_ID_CURR', ascending=False)\n",
    "st.style.background_gradient(cmap='Blues')"
   ]
  },
  {
   "cell_type": "code",
   "execution_count": null,
   "id": "23fd2e67",
   "metadata": {},
   "outputs": [],
   "source": [
    "df_train[['NAME_TYPE_SUITE','TARGET']].groupby(['NAME_TYPE_SUITE'],as_index=False).mean().sort_values(by=['TARGET'], ascending=False)"
   ]
  },
  {
   "cell_type": "markdown",
   "id": "13d7e02f",
   "metadata": {},
   "source": [
    "Clients who are accompanied by **other_b** when applying for a loan have a higher percentage of having difficulty repaying the loan (about 10%)."
   ]
  },
  {
   "cell_type": "markdown",
   "id": "4b41b8a0",
   "metadata": {},
   "source": [
    "##### Income Type Vs Target"
   ]
  },
  {
   "cell_type": "code",
   "execution_count": null,
   "id": "6802b343",
   "metadata": {},
   "outputs": [],
   "source": [
    "rt = train.groupby(by=['NAME_INCOME_TYPE','TARGET'], as_index=False)['SK_ID_CURR'].count()\n",
    "print('Clients Repayment Abilities By Income Type')\n",
    "rt.sort_values(by='SK_ID_CURR', ascending=False)\n",
    "rt.style.background_gradient(cmap='Blues')"
   ]
  },
  {
   "cell_type": "code",
   "execution_count": null,
   "id": "ecb83913",
   "metadata": {},
   "outputs": [],
   "source": [
    "df_train[['NAME_INCOME_TYPE','TARGET']].groupby(['NAME_INCOME_TYPE'],as_index=False).mean().sort_values(by=['TARGET'], ascending=False)"
   ]
  },
  {
   "cell_type": "markdown",
   "id": "8b6cbb9f",
   "metadata": {},
   "source": [
    "It can be seen that clients who have income type of working have applied for a larger majority of loans, there are about 158,774 loan applications.\n",
    "\n",
    "Clients with the income type of businessman and student have no difficulty in repaying their loans. \n",
    "\n",
    "While, clients with the income type of **maternity leaves** and **unemployed** have the highest percentage (about 40% and 36%) of `TARGET` = 1, ie. having problem in repaying the loans."
   ]
  },
  {
   "cell_type": "markdown",
   "id": "c1ce56a0",
   "metadata": {},
   "source": [
    "##### Education Type Vs Target"
   ]
  },
  {
   "cell_type": "code",
   "execution_count": null,
   "id": "66d24e5b",
   "metadata": {},
   "outputs": [],
   "source": [
    "et = train.groupby(by=['NAME_EDUCATION_TYPE','TARGET'], as_index=False)['SK_ID_CURR'].count()\n",
    "print('Clients Repayment Abilities By Education Type')\n",
    "et.sort_values(by='SK_ID_CURR', ascending=False)\n",
    "et.style.background_gradient(cmap='Blues')"
   ]
  },
  {
   "cell_type": "code",
   "execution_count": null,
   "id": "d09aeb69",
   "metadata": {},
   "outputs": [],
   "source": [
    "df_train[['NAME_EDUCATION_TYPE','TARGET']].groupby(['NAME_EDUCATION_TYPE'],as_index=False).mean().sort_values(by=['TARGET'], ascending=False)"
   ]
  },
  {
   "cell_type": "markdown",
   "id": "e66ea158",
   "metadata": {},
   "source": [
    "A large number of applications (218K) are filed by client having secondary education followed by people with higher education with 75K applications. \n",
    "\n",
    "While, it can be seen that the clients with the education type of **lower secondary** has the highest percentage (around 10%) of `TARGET` = 1, ie. having problem in repaying the loans."
   ]
  },
  {
   "cell_type": "markdown",
   "id": "16b7ec8f",
   "metadata": {},
   "source": [
    "#####  Family Status Vs Target"
   ]
  },
  {
   "cell_type": "code",
   "execution_count": null,
   "id": "3727cf55",
   "metadata": {
    "scrolled": false
   },
   "outputs": [],
   "source": [
    "ft = train.groupby(by=['NAME_FAMILY_STATUS','TARGET'], as_index=False)['SK_ID_CURR'].count()\n",
    "print('Clients Repayment Abilities By Family Status')\n",
    "ft.sort_values(by='SK_ID_CURR', ascending=False)\n",
    "ft.style.background_gradient(cmap='Blues')"
   ]
  },
  {
   "cell_type": "code",
   "execution_count": null,
   "id": "8ff399cd",
   "metadata": {},
   "outputs": [],
   "source": [
    "df_train[['NAME_FAMILY_STATUS','TARGET']].groupby(['NAME_FAMILY_STATUS'],as_index=False).mean().sort_values(by=['TARGET'], ascending=False)"
   ]
  },
  {
   "cell_type": "markdown",
   "id": "26f05d73",
   "metadata": {},
   "source": [
    "It can be seen that clients who are married have applied for a larger majority of loans, there are about 196,432 loan applications.\n",
    "\n",
    "Clients with family status of **civil marriage** and **single** have the highest percentage (around 9%) of clients who have problem in repaying the loans."
   ]
  },
  {
   "cell_type": "markdown",
   "id": "c1cf10bc",
   "metadata": {},
   "source": [
    "##### Housing Type, Occupation Type, Process Day, and Organization Type"
   ]
  },
  {
   "cell_type": "markdown",
   "id": "1997ac54",
   "metadata": {},
   "source": [
    "##### Housing Type Vs Target"
   ]
  },
  {
   "cell_type": "code",
   "execution_count": null,
   "id": "b0026e95",
   "metadata": {},
   "outputs": [],
   "source": [
    "ht = train.groupby(by=['NAME_HOUSING_TYPE','TARGET'], as_index=False)['SK_ID_CURR'].count()\n",
    "print('Clients Repayment Abilities By Housing Type')\n",
    "ht.sort_values(by='SK_ID_CURR', ascending=False)\n",
    "ht.style.background_gradient(cmap='Blues')"
   ]
  },
  {
   "cell_type": "code",
   "execution_count": null,
   "id": "8e65507c",
   "metadata": {},
   "outputs": [],
   "source": [
    "df_train[['NAME_HOUSING_TYPE','TARGET']].groupby(['NAME_HOUSING_TYPE'],as_index=False).mean().sort_values(by=['TARGET'], ascending=False)"
   ]
  },
  {
   "cell_type": "markdown",
   "id": "14d99e65",
   "metadata": {},
   "source": [
    "It can be seen that the clients with housing type of **rented apartment** has the highest percentage (around 12%) in difficulty in repaying the loans."
   ]
  },
  {
   "cell_type": "code",
   "execution_count": null,
   "id": "0185eef9",
   "metadata": {},
   "outputs": [],
   "source": [
    "# visualization\n",
    "plt.figure(figsize=(15,8))\n",
    "fig = sns.countplot(x='NAME_HOUSING_TYPE', data = train, hue = 'TARGET', palette = 'ch:start=0.2,rot=-.3_r')\n",
    "plt.title('Clients Repayment Abilities By Housing Type\\n', fontweight='bold', fontsize=14)\n",
    "plt.xlabel('\\nHousing Type', fontsize=12)"
   ]
  },
  {
   "cell_type": "markdown",
   "id": "f58f9699",
   "metadata": {},
   "source": [
    "Clients living in **House / apartments** has the highest number of loan apllications equal to 272K."
   ]
  },
  {
   "cell_type": "markdown",
   "id": "972233b2",
   "metadata": {},
   "source": [
    "##### Occupation Type Vs Target"
   ]
  },
  {
   "cell_type": "code",
   "execution_count": null,
   "id": "b08f931c",
   "metadata": {
    "scrolled": false
   },
   "outputs": [],
   "source": [
    "ot = train.groupby(by=['OCCUPATION_TYPE','TARGET'], as_index=False)['SK_ID_CURR'].count()\n",
    "print('Clients Repayment Abilities By Occupation Type')\n",
    "ot.sort_values(by='SK_ID_CURR', ascending=False)\n",
    "ot.style.background_gradient(cmap='Blues')"
   ]
  },
  {
   "cell_type": "code",
   "execution_count": null,
   "id": "ac5d7f2b",
   "metadata": {},
   "outputs": [],
   "source": [
    "df_train[['OCCUPATION_TYPE','TARGET']].groupby(['OCCUPATION_TYPE'],as_index=False).mean().sort_values(by=['TARGET'], ascending=False)"
   ]
  },
  {
   "cell_type": "markdown",
   "id": "867a5e2b",
   "metadata": {},
   "source": [
    "A large number of applications (55K) are filed by clients who work as Laborers.\n",
    "\n",
    "It can be seen that the clients with occupation type of **Low-skill Laborers** has the highest percentage (around 17%) of `TARGET` = 1, ie. having problem in repaying the loans."
   ]
  },
  {
   "cell_type": "markdown",
   "id": "73918be5",
   "metadata": {},
   "source": [
    "##### Process Day Vs Target"
   ]
  },
  {
   "cell_type": "code",
   "execution_count": null,
   "id": "73b7b095",
   "metadata": {},
   "outputs": [],
   "source": [
    "pt = train.groupby(by=['WEEKDAY_APPR_PROCESS_START','TARGET'], as_index=False)['SK_ID_CURR'].count()\n",
    "print('Clients Repayment Abilities By Process Day')\n",
    "pt.sort_values(by='SK_ID_CURR', ascending=False)\n",
    "pt.style.background_gradient(cmap='Blues')"
   ]
  },
  {
   "cell_type": "code",
   "execution_count": null,
   "id": "f2791193",
   "metadata": {},
   "outputs": [],
   "source": [
    "df_train[['WEEKDAY_APPR_PROCESS_START','TARGET']].groupby(['WEEKDAY_APPR_PROCESS_START'],as_index=False).mean().sort_values(by=['TARGET'], ascending=False)"
   ]
  },
  {
   "cell_type": "code",
   "execution_count": null,
   "id": "65ce03e1",
   "metadata": {},
   "outputs": [],
   "source": [
    "# visualization\n",
    "plt.figure(figsize=(15,8))\n",
    "fig = sns.countplot(x='WEEKDAY_APPR_PROCESS_START', data = train, hue = 'TARGET', palette = 'ch:start=0.2,rot=-.3_r')\n",
    "plt.title('Clients Repayment Abilities By Process Day\\n', fontweight='bold', fontsize=14)\n",
    "plt.xlabel('\\nProcess Day', fontsize=12)"
   ]
  },
  {
   "cell_type": "markdown",
   "id": "9b98b545",
   "metadata": {},
   "source": [
    "It can be seen that each application processing day has almost the same percentage (about 7% - 8%) in of `TARGET` = 1, ie. having problem in repaying the loans."
   ]
  },
  {
   "cell_type": "markdown",
   "id": "5f65bc65",
   "metadata": {},
   "source": [
    "##### Organization Type Vs Target"
   ]
  },
  {
   "cell_type": "code",
   "execution_count": null,
   "id": "80ecff89",
   "metadata": {
    "scrolled": false
   },
   "outputs": [],
   "source": [
    "tt = train.groupby(by=['ORGANIZATION_TYPE','TARGET'], as_index=False)['SK_ID_CURR'].count()\n",
    "print('Clients Repayment Abilities By Suite Type')\n",
    "tt.sort_values(by='SK_ID_CURR', ascending=False)\n",
    "tt.style.background_gradient(cmap='Blues')"
   ]
  },
  {
   "cell_type": "code",
   "execution_count": null,
   "id": "60d48090",
   "metadata": {},
   "outputs": [],
   "source": [
    "df_train[['ORGANIZATION_TYPE','TARGET']].groupby(['ORGANIZATION_TYPE'],as_index=False).mean().sort_values(by=['TARGET'], ascending=False)"
   ]
  },
  {
   "cell_type": "markdown",
   "id": "6331b6de",
   "metadata": {},
   "source": [
    "It can be seen that the clients with organization type of **transport: type 3** has the highest percentage (around 15%) of `TARGET` = 1, ie. having problem in repaying the loans."
   ]
  },
  {
   "cell_type": "markdown",
   "id": "bc4f7829",
   "metadata": {},
   "source": [
    "#### Bivariate: Numerical Features Vs Target"
   ]
  },
  {
   "cell_type": "markdown",
   "id": "e6852f85",
   "metadata": {},
   "source": [
    "##### Amount Credit of the Loan Vs Target"
   ]
  },
  {
   "cell_type": "code",
   "execution_count": null,
   "id": "c559165b",
   "metadata": {},
   "outputs": [],
   "source": [
    "sns.boxplot(x='TARGET', y='AMT_CREDIT', data=train, palette = 'ch:start=0.2,rot=-.3_r')\n",
    "plt.grid()\n",
    "plt.show()"
   ]
  },
  {
   "cell_type": "markdown",
   "id": "32c659f7",
   "metadata": {},
   "source": [
    "It can be seen that median value of the credit amount of the clients who have no payment difficulties is slightly larger than the median value of clients who have payment difficulties. It means, the clients with higher credit amount of the loan have a slightly higher chances of being capable of repaying the loan than clients with lower credit amount."
   ]
  },
  {
   "cell_type": "markdown",
   "id": "5a2902b3",
   "metadata": {},
   "source": [
    "##### Amount Income Vs Target"
   ]
  },
  {
   "cell_type": "code",
   "execution_count": null,
   "id": "6ad47261",
   "metadata": {},
   "outputs": [],
   "source": [
    "sns.boxplot(x='TARGET', y='AMT_INCOME_TOTAL', data=train, palette = 'ch:start=0.2,rot=-.3_r')\n",
    "plt.grid()\n",
    "plt.show()"
   ]
  },
  {
   "cell_type": "markdown",
   "id": "4ea44650",
   "metadata": {},
   "source": [
    "It can be seen that both clients who have payment difficulties as well as clients who have no payment difficulties, have mostly the same value.\n",
    "However, as the client's income increases, the probability that cliets will not have difficulty repaying the loan also increases."
   ]
  },
  {
   "cell_type": "markdown",
   "id": "967e3a74",
   "metadata": {},
   "source": [
    "##### Age Vs target"
   ]
  },
  {
   "cell_type": "code",
   "execution_count": null,
   "id": "60191c5a",
   "metadata": {},
   "outputs": [],
   "source": [
    "no_age = df_train[df_train['TARGET']==0]['DAYS_BIRTH'].values/-365\n",
    "yes_age = df_train[df_train['TARGET']==1]['DAYS_BIRTH'].values/-365"
   ]
  },
  {
   "cell_type": "code",
   "execution_count": null,
   "id": "f8e56d47",
   "metadata": {},
   "outputs": [],
   "source": [
    "plt.figure(figsize=(10,3))\n",
    "plt.hist(df_train['DAYS_BIRTH'].values/-365, bins=10, edgecolor='black', color='steelblue')\n",
    "plt.title('Age of Client (in years) at the time of Application\\n')\n",
    "plt.xlabel('Age Bucket')\n",
    "plt.ylabel('Number of Clients')\n",
    "plt.show()\n",
    "\n",
    "plt.figure(figsize=(10,3))\n",
    "plt.hist(no_age, bins=10, edgecolor='black', color='teal')\n",
    "plt.title('Age of Client (in years) who have No Payment Difficulties\\n')\n",
    "plt.xlabel('Age')\n",
    "plt.ylabel('Number of Clients')\n",
    "plt.show()\n",
    "\n",
    "plt.figure(figsize=(10,3))\n",
    "plt.hist(yes_age, bins=10, edgecolor='black', color='maroon')\n",
    "plt.title('Age of Client (in years) who have Payment Difficulties\\n')\n",
    "plt.xlabel('Age')\n",
    "plt.ylabel('Number of Clients')\n",
    "plt.show()"
   ]
  },
  {
   "cell_type": "markdown",
   "id": "0eee908c",
   "metadata": {},
   "source": [
    "Most number of clients who apply for loans are in the range of 35-40 years, followed by clients in the range of 40-45 years. Meanwhile, the number of applicants for clients aged <25 or age >65 is very low.\n",
    "\n",
    "Clients who have no payment difficulties are client the range of 35-45 years. While clients who have payment difficulties are client the range of 25-35 years."
   ]
  },
  {
   "cell_type": "markdown",
   "id": "0692ceb4",
   "metadata": {},
   "source": [
    "#### Multivariat Visualization"
   ]
  },
  {
   "cell_type": "markdown",
   "id": "0b3e69f1",
   "metadata": {},
   "source": [
    "##### Grouped by Realty Ownership Status"
   ]
  },
  {
   "cell_type": "markdown",
   "id": "d094e4db",
   "metadata": {},
   "source": [
    "**1. Car Ownership Status, The Number of Children, Target, and House/Flat Ownership Status**"
   ]
  },
  {
   "cell_type": "code",
   "execution_count": null,
   "id": "488e2d46",
   "metadata": {},
   "outputs": [],
   "source": [
    "sns.catplot(x = 'FLAG_OWN_CAR',\n",
    "            y = 'CNT_CHILDREN', \n",
    "            hue = 'TARGET', \n",
    "            col = 'FLAG_OWN_REALTY', \n",
    "            kind = 'bar', palette = 'ch:start=0.2,rot=-.3_r',\n",
    "            data = train)\n",
    "plt.show()"
   ]
  },
  {
   "cell_type": "markdown",
   "id": "1530633b",
   "metadata": {},
   "source": [
    "Clients who **own a car** and a **house/flat** have a problem repaying the loans for a high number of children compared to clients who do not own houses/flat."
   ]
  },
  {
   "cell_type": "markdown",
   "id": "82b937f3",
   "metadata": {},
   "source": [
    "**2. Income Type, Amount of Goods Price, Target, and House/Flat Ownership Status**"
   ]
  },
  {
   "cell_type": "code",
   "execution_count": null,
   "id": "326b6189",
   "metadata": {},
   "outputs": [],
   "source": [
    "fig = sns.catplot(x = 'NAME_INCOME_TYPE',\n",
    "            y = 'AMT_GOODS_PRICE', \n",
    "            hue = 'TARGET', \n",
    "            col = 'FLAG_OWN_REALTY', \n",
    "            kind = 'bar', palette = 'ch:start=0.2,rot=-.3_r',\n",
    "            data = train)\n",
    "\n",
    "fig.set_xticklabels(rotation=45, horizontalalignment='right')\n",
    "plt.show()"
   ]
  },
  {
   "cell_type": "markdown",
   "id": "5f89d9b5",
   "metadata": {},
   "source": [
    "Clients with income type of **maternity leave** in `FLAG_OWN_REALTY` = Yes (i.e own a house/flat) have a problem repaying the loans compared to when `FLAG_OWN_REALTY` = No (i.e not own a house/flat)."
   ]
  },
  {
   "cell_type": "markdown",
   "id": "a88305db",
   "metadata": {},
   "source": [
    "**3. Family Status, Amount of Income, Target, and House/Flat Ownership Status**"
   ]
  },
  {
   "cell_type": "code",
   "execution_count": null,
   "id": "aa5e6b3b",
   "metadata": {},
   "outputs": [],
   "source": [
    "fig = sns.catplot(x = 'NAME_FAMILY_STATUS',\n",
    "            y = 'AMT_INCOME_TOTAL', \n",
    "            hue = 'TARGET', \n",
    "            col = 'FLAG_OWN_REALTY', \n",
    "            kind = 'bar', palette = 'ch:start=0.2,rot=-.3_r',\n",
    "            data = train)\n",
    "\n",
    "fig.set_xticklabels(rotation=45, horizontalalignment='right')\n",
    "plt.show()"
   ]
  },
  {
   "cell_type": "code",
   "execution_count": null,
   "id": "2a78b50d",
   "metadata": {},
   "outputs": [],
   "source": [
    "#train.groupby(by=['NAME_FAMILY_STATUS','FLAG_OWN_REALTY', 'TARGET'], as_index=False)['AMT_INCOME_TOTAL'].mean()"
   ]
  },
  {
   "cell_type": "markdown",
   "id": "96b147e6",
   "metadata": {},
   "source": [
    "Clients who are **married** and **own a house/flat** (`FLAG_OWN_REALTY` = Yes) have problem repaying the loans for a medium amount of income compared to when client not own a house/flat (`FLAG_OWN_REALTY` = No)."
   ]
  },
  {
   "cell_type": "markdown",
   "id": "1264f132",
   "metadata": {},
   "source": [
    "##### Grouped by Car Ownership Status"
   ]
  },
  {
   "cell_type": "markdown",
   "id": "c6f80480",
   "metadata": {},
   "source": [
    "**1. Contract Type, The Number of Children, Target, and Car Ownership Status**"
   ]
  },
  {
   "cell_type": "code",
   "execution_count": null,
   "id": "01b747f8",
   "metadata": {},
   "outputs": [],
   "source": [
    "sns.catplot(x = 'NAME_CONTRACT_TYPE',\n",
    "            y = 'CNT_CHILDREN', \n",
    "            hue = 'TARGET', \n",
    "            col = 'FLAG_OWN_CAR', \n",
    "            kind = 'bar', palette = 'ch:start=0.2,rot=-.3_r',\n",
    "            data = train)\n",
    "plt.show()"
   ]
  },
  {
   "cell_type": "markdown",
   "id": "855fce9f",
   "metadata": {},
   "source": [
    "For **revolving loans** in `FLAG_OWN_CAR` = No (i.e not own a car) have problem repaying the loans compared to when `FLAG_OWN_CAR` = Yes (i.e own a car)."
   ]
  },
  {
   "cell_type": "markdown",
   "id": "d17c1820",
   "metadata": {},
   "source": [
    "##### Grouped by Contract Type"
   ]
  },
  {
   "cell_type": "markdown",
   "id": "6abae49a",
   "metadata": {},
   "source": [
    "**1. Income Type, Amount of Credit, Target, and Contract Type**"
   ]
  },
  {
   "cell_type": "code",
   "execution_count": null,
   "id": "9f2ebac7",
   "metadata": {
    "scrolled": false
   },
   "outputs": [],
   "source": [
    "fig = sns.catplot(x = 'NAME_INCOME_TYPE',\n",
    "            y = 'AMT_CREDIT', \n",
    "            hue = 'TARGET', \n",
    "            col = 'NAME_CONTRACT_TYPE', \n",
    "            kind = 'bar', palette = 'ch:start=0.2,rot=-.3_r',\n",
    "            data = train)\n",
    "\n",
    "fig.set_xticklabels(rotation=45, horizontalalignment='right')\n",
    "plt.gcf().set_size_inches(15, 8)\n",
    "plt.show()"
   ]
  },
  {
   "cell_type": "code",
   "execution_count": null,
   "id": "099c9096",
   "metadata": {},
   "outputs": [],
   "source": [
    "#train.groupby(by=['NAME_INCOME_TYPE','NAME_CONTRACT_TYPE', 'TARGET'], as_index=False)['SK_ID_CURR'].count()\n",
    "#train.groupby(by=['NAME_INCOME_TYPE','NAME_CONTRACT_TYPE', 'TARGET'], as_index=False)['AMT_CREDIT'].mean()"
   ]
  },
  {
   "cell_type": "markdown",
   "id": "aa6cd622",
   "metadata": {},
   "source": [
    "For the income type of **maternity leave** with **cash loans**, all the clients have problems repaying the loans for a medium credit amount of the loan. While all clients with maternity leaves and revolving loans have no difficulty repaying the loans.\n",
    "\n",
    "For **unemployed** clients with **cash loans**, more than 50% of clients have problems repaying loans with medium credit amounts of the loan. While all unemployed clients with revolving loans have no difficulty repaying the loan.\n",
    "\n",
    "All **student** clients have no difficulty repaying the loans either with cash loan or revolving loan for a low to medium credit amount of the loan."
   ]
  },
  {
   "cell_type": "markdown",
   "id": "34c48877",
   "metadata": {},
   "source": [
    "##### Grouped by Rating of Region where Client Lives"
   ]
  },
  {
   "cell_type": "markdown",
   "id": "3f47538f",
   "metadata": {},
   "source": [
    "**1. Housing Type, Amount Credit of Loan, Target, and Rating of Region where Client Lives**"
   ]
  },
  {
   "cell_type": "code",
   "execution_count": null,
   "id": "84672525",
   "metadata": {},
   "outputs": [],
   "source": [
    "fig = sns.catplot(x = 'NAME_HOUSING_TYPE',\n",
    "            y = 'AMT_CREDIT', \n",
    "            hue = 'TARGET', \n",
    "            col = 'REGION_RATING_CLIENT', \n",
    "            kind = 'bar', palette = 'ch:start=0.2,rot=-.3_r',\n",
    "            data = train)\n",
    "\n",
    "fig.set_xticklabels(rotation=45, horizontalalignment='right')\n",
    "plt.show()"
   ]
  },
  {
   "cell_type": "markdown",
   "id": "80b8b61d",
   "metadata": {},
   "source": [
    "Clients who lives in **rented apartment** and **office apartment** and their region have a rating of 1, have a problem repaying the loans compared to client in region with rating of 2 for a medium credit amount of the loan."
   ]
  },
  {
   "cell_type": "markdown",
   "id": "9f8bcb1b",
   "metadata": {},
   "source": [
    "**2. Education Type, Amount Credit of Loan, Target, and Rating of Region where Client Lives**"
   ]
  },
  {
   "cell_type": "code",
   "execution_count": null,
   "id": "5592e3b4",
   "metadata": {},
   "outputs": [],
   "source": [
    "fig = sns.catplot(x = 'NAME_EDUCATION_TYPE',\n",
    "            y = 'AMT_CREDIT', \n",
    "            hue = 'TARGET', \n",
    "            col = 'REGION_RATING_CLIENT', \n",
    "            kind = 'bar', palette = 'ch:start=0.2,rot=-.3_r',\n",
    "            data = train)\n",
    "\n",
    "fig.set_xticklabels(rotation=45, horizontalalignment='right')\n",
    "plt.show()"
   ]
  },
  {
   "cell_type": "markdown",
   "id": "e94b41d9",
   "metadata": {},
   "source": [
    "For client who have **academic degree** and lives in region with **rating of 2**, have a problem repaying the loans for higher amount credit of the loan. And, client with the same degree but lives in region with rating of 3 have problem repaying the loans for a medium amount credit of the loan."
   ]
  },
  {
   "cell_type": "markdown",
   "id": "f4ab7697",
   "metadata": {},
   "source": [
    "**3. Family Status, Amount Credit of Loan, Target, and Rating of Region where Client Lives**"
   ]
  },
  {
   "cell_type": "code",
   "execution_count": null,
   "id": "4629783b",
   "metadata": {},
   "outputs": [],
   "source": [
    "fig = sns.catplot(x = 'NAME_FAMILY_STATUS',\n",
    "            y = 'AMT_CREDIT', \n",
    "            hue = 'TARGET', \n",
    "            col = 'REGION_RATING_CLIENT', \n",
    "            kind = 'bar', palette = 'ch:start=0.2,rot=-.3_r',\n",
    "            data = train)\n",
    "\n",
    "fig.set_xticklabels(rotation=45, horizontalalignment='right')\n",
    "plt.show()"
   ]
  },
  {
   "cell_type": "code",
   "execution_count": null,
   "id": "0212431d",
   "metadata": {},
   "outputs": [],
   "source": [
    "#train.groupby(by=['NAME_FAMILY_STATUS','REGION_RATING_CLIENT', 'TARGET'], as_index=False)['AMT_CREDIT'].mean()"
   ]
  },
  {
   "cell_type": "markdown",
   "id": "767ba9f2",
   "metadata": {},
   "source": [
    "Clients who have a family status as **widow**, whether they live in a region with a rating of 1, 2, or 3, have problems repaying loans for moderate to high amounts credit of the loan.\n",
    "\n",
    "Clients who have a family status as **separated**, and live in region with a rating of 3, have problems repaying loans for a moderate amount credit of the loan compared to the clients who live in region with rating of 1 or 2."
   ]
  },
  {
   "cell_type": "markdown",
   "id": "139d5780",
   "metadata": {},
   "source": [
    "## Data Cleaning"
   ]
  },
  {
   "cell_type": "markdown",
   "id": "f5fce02d",
   "metadata": {},
   "source": [
    "### Detecting Data Duplication"
   ]
  },
  {
   "cell_type": "code",
   "execution_count": null,
   "id": "0a35be0b",
   "metadata": {},
   "outputs": [],
   "source": [
    "print('The number of duplication is:', df_train.duplicated().sum())\n",
    "# there is no duplication"
   ]
  },
  {
   "cell_type": "markdown",
   "id": "7f5d1f76",
   "metadata": {},
   "source": [
    "### Detecting Missing Values"
   ]
  },
  {
   "cell_type": "code",
   "execution_count": null,
   "id": "70084841",
   "metadata": {
    "scrolled": false
   },
   "outputs": [],
   "source": [
    "# check for empty elements\n",
    "print('Missing values status:', df_train.isnull().values.any())\n",
    "nvc = pd.DataFrame(df_train.isnull().sum(), columns=['Total Null Values'])\n",
    "nvc['Percentage'] = (nvc['Total Null Values']/df_train.shape[0])*100\n",
    "nvc.sort_values(by=['Percentage'], ascending=False).reset_index()"
   ]
  },
  {
   "cell_type": "code",
   "execution_count": null,
   "id": "044fbbb3",
   "metadata": {},
   "outputs": [],
   "source": [
    "# drop features that have large number of missing values (± 50%)\n",
    "df_train.drop(df_train.iloc[:, 44:91], inplace=True, axis=1)\n",
    "df_train.drop(['OWN_CAR_AGE','EXT_SOURCE_1'], inplace=True, axis=1)"
   ]
  },
  {
   "cell_type": "code",
   "execution_count": null,
   "id": "d688aa64",
   "metadata": {
    "scrolled": false
   },
   "outputs": [],
   "source": [
    "# after drop some features\n",
    "print('Missing values status:', df_train.isnull().values.any())\n",
    "nvc = pd.DataFrame(df_train.isnull().sum().sort_values(), columns=['Total Null Values'])\n",
    "nvc['Percentage'] = (nvc['Total Null Values']/df_train.shape[0])*100\n",
    "nvc.sort_values(by=['Percentage'], ascending=False).reset_index()"
   ]
  },
  {
   "cell_type": "code",
   "execution_count": null,
   "id": "05880481",
   "metadata": {},
   "outputs": [],
   "source": [
    "# distribution of numerical features that have missing values pt.1\n",
    "sns.set_style('whitegrid')\n",
    "fig, ax = plt.subplots(2,2, figsize=(10,10))\n",
    "sns.set_context('paper', font_scale=1)\n",
    "\n",
    "sns.distplot(df_train['AMT_REQ_CREDIT_BUREAU_YEAR'], ax=ax[0][0])\n",
    "\n",
    "sns.distplot(df_train['AMT_REQ_CREDIT_BUREAU_MON'], ax=ax[0][1])\n",
    "\n",
    "sns.distplot(df_train['AMT_REQ_CREDIT_BUREAU_WEEK'], ax=ax[1][0])\n",
    "\n",
    "sns.distplot(df_train['AMT_REQ_CREDIT_BUREAU_DAY'], ax=ax[1][1])"
   ]
  },
  {
   "cell_type": "code",
   "execution_count": null,
   "id": "83e93182",
   "metadata": {},
   "outputs": [],
   "source": [
    "# distribution of numerical features that have missing values pt.2\n",
    "sns.set_style('whitegrid')\n",
    "fig, ax = plt.subplots(2,2, figsize=(10,10))\n",
    "sns.set_context('paper', font_scale=1)\n",
    "\n",
    "sns.distplot(df_train['AMT_REQ_CREDIT_BUREAU_HOUR'], ax=ax[0][0])\n",
    "\n",
    "sns.distplot(df_train['AMT_REQ_CREDIT_BUREAU_QRT'], ax=ax[0][1])\n",
    "\n",
    "sns.distplot(df_train['AMT_GOODS_PRICE'], ax=ax[1][0])\n",
    "\n",
    "sns.distplot(df_train['AMT_ANNUITY'], ax=ax[1][1])"
   ]
  },
  {
   "cell_type": "code",
   "execution_count": null,
   "id": "c68108b4",
   "metadata": {},
   "outputs": [],
   "source": [
    "# distribution of numerical features that have missing values pt.3\n",
    "sns.set_style('whitegrid')\n",
    "fig, ax = plt.subplots(2,2, figsize=(10,10))\n",
    "sns.set_context('paper', font_scale=1)\n",
    "\n",
    "sns.distplot(df_train['DEF_60_CNT_SOCIAL_CIRCLE'], ax=ax[0][0])\n",
    "\n",
    "sns.distplot(df_train['OBS_60_CNT_SOCIAL_CIRCLE'], ax=ax[0][1])\n",
    "\n",
    "sns.distplot(df_train['DEF_30_CNT_SOCIAL_CIRCLE'], ax=ax[1][0])\n",
    "\n",
    "sns.distplot(df_train['OBS_30_CNT_SOCIAL_CIRCLE'], ax=ax[1][1])"
   ]
  },
  {
   "cell_type": "code",
   "execution_count": null,
   "id": "633bd7e6",
   "metadata": {},
   "outputs": [],
   "source": [
    "# distribution of numerical features that have missing values pt.3\n",
    "sns.set_style('whitegrid')\n",
    "fig, ax = plt.subplots(2, figsize=(10,10))\n",
    "sns.set_context('paper', font_scale=1)\n",
    "\n",
    "sns.distplot(df_train['CNT_FAM_MEMBERS'], ax=ax[0])\n",
    "\n",
    "sns.distplot(df_train['DAYS_LAST_PHONE_CHANGE'], ax=ax[1])"
   ]
  },
  {
   "cell_type": "markdown",
   "id": "ae208667",
   "metadata": {},
   "source": [
    "It can be seen that the distribution of numerical features that mentioned above is skewed, so the missing values in those features will be imputed with the median."
   ]
  },
  {
   "cell_type": "code",
   "execution_count": null,
   "id": "51e6eadc",
   "metadata": {},
   "outputs": [],
   "source": [
    "# impute missing values with median because the data is skewed for numerical features\n",
    "# impute missing values with mode for categorical features\n",
    "\n",
    "category_columns = df_train.select_dtypes(include=['object']).columns.tolist()\n",
    "integer_columns = df_train.select_dtypes(include=['int64','float64']).columns.tolist()\n",
    "\n",
    "for column in df_train:\n",
    "    if df_train[column].isnull().any():\n",
    "        if(column in category_columns):\n",
    "            df_train[column]=df_train[column].fillna(df_train[column].mode()[0])\n",
    "        else:\n",
    "            df_train[column]=df_train[column].fillna(df_train[column].median())"
   ]
  },
  {
   "cell_type": "code",
   "execution_count": null,
   "id": "f2bea725",
   "metadata": {
    "scrolled": false
   },
   "outputs": [],
   "source": [
    "# after imputation\n",
    "print('Missing values status:', df_train.isnull().values.any())\n",
    "print('\\nThe number of missing values for each columns (after imputation): \\n')\n",
    "nvc = pd.DataFrame(df_train.isnull().sum().sort_values(), columns=['Total Null Values'])\n",
    "nvc['Percentage'] = (nvc['Total Null Values']/df_train.shape[0])*100\n",
    "nvc.sort_values(by=['Percentage'], ascending=False).reset_index()"
   ]
  },
  {
   "cell_type": "markdown",
   "id": "a85488ec",
   "metadata": {},
   "source": [
    "### Detecting Outliers"
   ]
  },
  {
   "cell_type": "code",
   "execution_count": null,
   "id": "b26647cb",
   "metadata": {},
   "outputs": [],
   "source": [
    "# dataset that only consist numerical features pt.1\n",
    "int_features = df_train[[\"CNT_CHILDREN\", \"AMT_INCOME_TOTAL\", \"AMT_CREDIT\", \"AMT_ANNUITY\", \"AMT_GOODS_PRICE\"]]"
   ]
  },
  {
   "cell_type": "code",
   "execution_count": null,
   "id": "9595b80e",
   "metadata": {},
   "outputs": [],
   "source": [
    "fig, axs = plt.subplots(ncols=5, nrows=1, figsize=(20, 10))\n",
    "index = 0\n",
    "axs = axs.flatten()\n",
    "for k,v in int_features.items():\n",
    "    sns.boxplot(y = k, data = int_features, ax=axs[index])\n",
    "    index += 1\n",
    "    if index == 5:\n",
    "      break;\n",
    "plt.tight_layout(pad=0.4, w_pad=0.5, h_pad=5.0)"
   ]
  },
  {
   "cell_type": "code",
   "execution_count": null,
   "id": "6e0248cd",
   "metadata": {},
   "outputs": [],
   "source": [
    "# dataset that only consist numerical features pt.2\n",
    "int_features = df_train[[\"DAYS_BIRTH\", \"DAYS_EMPLOYED\", \"DAYS_REGISTRATION\", \"DAYS_ID_PUBLISH\", \"CNT_FAM_MEMBERS\"]]"
   ]
  },
  {
   "cell_type": "code",
   "execution_count": null,
   "id": "f76bbad2",
   "metadata": {},
   "outputs": [],
   "source": [
    "fig, axs = plt.subplots(ncols=5, nrows=1, figsize=(20, 10))\n",
    "index = 0\n",
    "axs = axs.flatten()\n",
    "for k,v in int_features.items():\n",
    "    sns.boxplot(y = k, data = int_features, ax=axs[index])\n",
    "    index += 1\n",
    "    if index == 5:\n",
    "      break;\n",
    "plt.tight_layout(pad=0.4, w_pad=0.5, h_pad=5.0)"
   ]
  },
  {
   "cell_type": "code",
   "execution_count": null,
   "id": "62186a67",
   "metadata": {},
   "outputs": [],
   "source": [
    "# dataset that only consist numerical features pt.3\n",
    "int_features = df_train[[\"AMT_REQ_CREDIT_BUREAU_YEAR\", \"AMT_REQ_CREDIT_BUREAU_MON\", \"AMT_REQ_CREDIT_BUREAU_WEEK\", \"AMT_REQ_CREDIT_BUREAU_DAY\", \"AMT_REQ_CREDIT_BUREAU_HOUR\"]]"
   ]
  },
  {
   "cell_type": "code",
   "execution_count": null,
   "id": "8fed0c89",
   "metadata": {},
   "outputs": [],
   "source": [
    "fig, axs = plt.subplots(ncols=5, nrows=1, figsize=(20, 10))\n",
    "index = 0\n",
    "axs = axs.flatten()\n",
    "for k,v in int_features.items():\n",
    "    sns.boxplot(y = k, data = int_features, ax=axs[index])\n",
    "    index += 1\n",
    "    if index == 5:\n",
    "      break;\n",
    "plt.tight_layout(pad=0.4, w_pad=0.5, h_pad=5.0)"
   ]
  },
  {
   "cell_type": "code",
   "execution_count": null,
   "id": "b28ed6f5",
   "metadata": {},
   "outputs": [],
   "source": [
    "# dataset that only consist numerical features pt.4\n",
    "int_features = df_train[[\"OBS_30_CNT_SOCIAL_CIRCLE\", \"OBS_60_CNT_SOCIAL_CIRCLE\", \"DEF_30_CNT_SOCIAL_CIRCLE\", \"DEF_60_CNT_SOCIAL_CIRCLE\", \"REGION_POPULATION_RELATIVE\"]]"
   ]
  },
  {
   "cell_type": "code",
   "execution_count": null,
   "id": "a0bc9f38",
   "metadata": {},
   "outputs": [],
   "source": [
    "fig, axs = plt.subplots(ncols=5, nrows=1, figsize=(20, 10))\n",
    "index = 0\n",
    "axs = axs.flatten()\n",
    "for k,v in int_features.items():\n",
    "    sns.boxplot(y = k, data = int_features, ax=axs[index])\n",
    "    index += 1\n",
    "    if index == 5:\n",
    "      break;\n",
    "plt.tight_layout(pad=0.4, w_pad=0.5, h_pad=5.0)"
   ]
  },
  {
   "cell_type": "code",
   "execution_count": null,
   "id": "73e1759a",
   "metadata": {},
   "outputs": [],
   "source": [
    "# dataset that only consist numerical features pt.5\n",
    "int_features = df_train[[\"REGION_RATING_CLIENT\", \"HOUR_APPR_PROCESS_START\", \"DAYS_LAST_PHONE_CHANGE\", \"FLAG_DOCUMENT_2\", \"AMT_REQ_CREDIT_BUREAU_QRT\"]]"
   ]
  },
  {
   "cell_type": "code",
   "execution_count": null,
   "id": "1d1ce20c",
   "metadata": {},
   "outputs": [],
   "source": [
    "fig, axs = plt.subplots(ncols=5, nrows=1, figsize=(20, 10))\n",
    "index = 0\n",
    "axs = axs.flatten()\n",
    "for k,v in int_features.items():\n",
    "    sns.boxplot(y = k, data = int_features, ax=axs[index])\n",
    "    index += 1\n",
    "    if index == 5:\n",
    "      break;\n",
    "plt.tight_layout(pad=0.4, w_pad=0.5, h_pad=5.0)"
   ]
  },
  {
   "cell_type": "markdown",
   "id": "04218fd4",
   "metadata": {},
   "source": [
    "Outliers on the numerical features mentioned above will not be removed because there may be insights that can be drawn from these outliers."
   ]
  },
  {
   "cell_type": "markdown",
   "id": "3f81d20d",
   "metadata": {},
   "source": [
    "## Machine Learning Models"
   ]
  },
  {
   "cell_type": "markdown",
   "id": "317766d3",
   "metadata": {},
   "source": [
    "### Label Encoding"
   ]
  },
  {
   "cell_type": "code",
   "execution_count": null,
   "id": "9925dfad",
   "metadata": {},
   "outputs": [],
   "source": [
    "# label encoder for object features\n",
    "df_train[[\"CODE_GENDER\", \"NAME_CONTRACT_TYPE\", \"FLAG_OWN_CAR\", \"FLAG_OWN_REALTY\", \n",
    "          \"NAME_TYPE_SUITE\", \"NAME_INCOME_TYPE\", \"NAME_EDUCATION_TYPE\", \"NAME_FAMILY_STATUS\",\n",
    "         \"NAME_HOUSING_TYPE\", \"OCCUPATION_TYPE\", \"WEEKDAY_APPR_PROCESS_START\", \"ORGANIZATION_TYPE\"]] = df_train[[\"CODE_GENDER\", \"NAME_CONTRACT_TYPE\", \"FLAG_OWN_CAR\", \"FLAG_OWN_REALTY\", \n",
    "          \"NAME_TYPE_SUITE\", \"NAME_INCOME_TYPE\", \"NAME_EDUCATION_TYPE\", \"NAME_FAMILY_STATUS\",\n",
    "         \"NAME_HOUSING_TYPE\", \"OCCUPATION_TYPE\", \"WEEKDAY_APPR_PROCESS_START\", \"ORGANIZATION_TYPE\"]].apply(LabelEncoder().fit_transform)"
   ]
  },
  {
   "cell_type": "code",
   "execution_count": null,
   "id": "fd0c34cd",
   "metadata": {},
   "outputs": [],
   "source": [
    "df_train.head()"
   ]
  },
  {
   "cell_type": "markdown",
   "id": "b3d7f426",
   "metadata": {},
   "source": [
    "### Feature Selection"
   ]
  },
  {
   "cell_type": "markdown",
   "id": "78dcc465",
   "metadata": {},
   "source": [
    "#### Drop Unnecessary Feature"
   ]
  },
  {
   "cell_type": "code",
   "execution_count": null,
   "id": "c9142ce6",
   "metadata": {},
   "outputs": [],
   "source": [
    "df_train.drop(['SK_ID_CURR'], inplace=True, axis=1)"
   ]
  },
  {
   "cell_type": "code",
   "execution_count": null,
   "id": "0fe2673a",
   "metadata": {},
   "outputs": [],
   "source": [
    "df_train.head()"
   ]
  },
  {
   "cell_type": "markdown",
   "id": "100585dd",
   "metadata": {},
   "source": [
    "#### Convert Negative Values to Positive Values"
   ]
  },
  {
   "cell_type": "markdown",
   "id": "00874cc8",
   "metadata": {},
   "source": [
    "The features that have negative values are `DAYS_BIRTH`, `DAYS_EMPLOYED`, `DAYS_ID_PUBLISH`, `DAYS_REGISTRATION`, and `DAYS_LAST_PHONE_CHANGE`"
   ]
  },
  {
   "cell_type": "code",
   "execution_count": null,
   "id": "17a23c08",
   "metadata": {},
   "outputs": [],
   "source": [
    "df_train.iloc[:,16:20] = df_train.iloc[:,16:20].abs()\n",
    "df_train.iloc[:,45] = df_train.iloc[:,45].abs()"
   ]
  },
  {
   "cell_type": "markdown",
   "id": "cc9198bd",
   "metadata": {},
   "source": [
    "#### Feature Selection"
   ]
  },
  {
   "cell_type": "code",
   "execution_count": null,
   "id": "6c8d7a90",
   "metadata": {},
   "outputs": [],
   "source": [
    "x = df_train.drop(['TARGET'], axis=1)\n",
    "y = df_train['TARGET']"
   ]
  },
  {
   "cell_type": "code",
   "execution_count": null,
   "id": "0c55612b",
   "metadata": {
    "scrolled": false
   },
   "outputs": [],
   "source": [
    "# feature selection\n",
    "bestfeatures = SelectKBest(score_func=chi2, k=10)\n",
    "fit = bestfeatures.fit(x,y)\n",
    "dfscores = pd.DataFrame(fit.scores_)\n",
    "dfcolumns = pd.DataFrame(x.columns)\n",
    "featureScores = pd.concat([dfcolumns, dfscores], axis = 1)\n",
    "featureScores.columns = ['Features', 'Score']\n",
    "print('The features that correlate well with target feature:\\n')\n",
    "featureScores.sort_values(by=['Score'], ascending=False)"
   ]
  },
  {
   "cell_type": "markdown",
   "id": "dcc13502",
   "metadata": {},
   "source": [
    "It can be seen which features correlate well with payment difficulties.\n",
    "\n",
    "1. **Best features**: `DAYS_EMPLOYED`, `AMT_GOODS_PRICE`, and `AMT_CREDIT`\n",
    "\n",
    "2. **Worst features**: `FLAG_MOBIL`, `FLAG_CONT_MOBILE`, and `AMT_REQ_CREDIT_BUREAU_HOUR`"
   ]
  },
  {
   "cell_type": "markdown",
   "id": "af8e59dc",
   "metadata": {},
   "source": [
    "### Handling Data Imbalance"
   ]
  },
  {
   "cell_type": "code",
   "execution_count": null,
   "id": "57f1ca11",
   "metadata": {},
   "outputs": [],
   "source": [
    "# create two different dataframe of majority and minority class \n",
    "df_majority = df_train[(df_train['TARGET']==0)] \n",
    "df_minority = df_train[(df_train['TARGET']==1)] \n",
    "\n",
    "# upsample minority class\n",
    "df_minority_upsampled = resample(df_minority, \n",
    "                                 replace=True,    # sample with replacement\n",
    "                                 n_samples= 282686, # to match majority class\n",
    "                                 random_state=42)  # reproducible results\n",
    "\n",
    "# combine majority class with upsampled minority class\n",
    "df_upsampled = pd.concat([df_minority_upsampled, df_majority])"
   ]
  },
  {
   "cell_type": "code",
   "execution_count": null,
   "id": "23b1089f",
   "metadata": {},
   "outputs": [],
   "source": [
    "fig = plt.figure(figsize = (12,7))\n",
    "df_upsampled['TARGET'].value_counts(normalize=True).plot(kind='bar', color= ['midnightblue','lightgrey'], alpha = 0.9, rot=0)\n",
    "plt.title('The Distribution of Clients Repayment Abilities\\n', fontsize=14)\n",
    "plt.ylabel('Percentage of the Customers\\n', fontsize=12)\n",
    "plt.xlabel('\\nPayment Difficulty Status', fontsize=12)\n",
    "plt.show()"
   ]
  },
  {
   "cell_type": "markdown",
   "id": "f7a23e0c",
   "metadata": {},
   "source": [
    "It can be seen that the data is balanced, so the analysis can be continued."
   ]
  },
  {
   "cell_type": "markdown",
   "id": "48992e44",
   "metadata": {},
   "source": [
    "### **Data Splitting**"
   ]
  },
  {
   "cell_type": "code",
   "execution_count": null,
   "id": "63008027",
   "metadata": {},
   "outputs": [],
   "source": [
    "# define x and y features (top 20 features)\n",
    "x_balanced = df_upsampled[['DAYS_EMPLOYED', 'AMT_GOODS_PRICE', 'AMT_CREDIT', \n",
    "                           'DAYS_BIRTH', 'AMT_INCOME_TOTAL', 'DAYS_REGISTRATION', \n",
    "                           'DAYS_LAST_PHONE_CHANGE', 'DAYS_ID_PUBLISH', 'AMT_ANNUITY', \n",
    "                           'ORGANIZATION_TYPE', 'NAME_INCOME_TYPE', 'REG_CITY_NOT_WORK_CITY',\n",
    "                          'CODE_GENDER', 'EXT_SOURCE_2', 'REG_CITY_NOT_LIVE_CITY', 'NAME_EDUCATION_TYPE',\n",
    "                          'DEF_30_CNT_SOCIAL_CIRCLE', 'EXT_SOURCE_3', 'DEF_60_CNT_SOCIAL_CIRCLE', 'LIVE_CITY_NOT_WORK_CITY']]\n",
    "y_balanced = df_upsampled['TARGET']"
   ]
  },
  {
   "cell_type": "code",
   "execution_count": null,
   "id": "1aab7b5a",
   "metadata": {},
   "outputs": [],
   "source": [
    "# splitting tha data\n",
    "X_train, X_test, y_train, y_test = train_test_split(x_balanced, y_balanced, test_size=0.2, random_state=42)\n",
    "print(X_train.shape, X_test.shape)"
   ]
  },
  {
   "cell_type": "code",
   "execution_count": null,
   "id": "f0580e06",
   "metadata": {},
   "outputs": [],
   "source": [
    "# normalize features\n",
    "scaler = StandardScaler()\n",
    "X_train = scaler.fit_transform(X_train)\n",
    "X_test = scaler.fit_transform(X_test)"
   ]
  },
  {
   "cell_type": "markdown",
   "id": "72bffbb6",
   "metadata": {},
   "source": [
    "### Model Building"
   ]
  },
  {
   "cell_type": "markdown",
   "id": "bcb68317",
   "metadata": {},
   "source": [
    "Here are some algorithms that will be tested to determine the best model:\n",
    "1. Logistic Regression\n",
    "2. Gaussian Naive Bayes\n",
    "3. Decision Tree\n",
    "4. Random Forest\n",
    "5. K-Nearest Neighbor\n",
    "6. Neural Network"
   ]
  },
  {
   "cell_type": "markdown",
   "id": "03e3d67c",
   "metadata": {},
   "source": [
    "#### 1. Logistic Regression"
   ]
  },
  {
   "cell_type": "code",
   "execution_count": null,
   "id": "52f57b89",
   "metadata": {},
   "outputs": [],
   "source": [
    "# train the model\n",
    "log_model = LogisticRegression().fit(X_train, y_train)\n",
    "print(log_model)"
   ]
  },
  {
   "cell_type": "code",
   "execution_count": null,
   "id": "2481c2a8",
   "metadata": {},
   "outputs": [],
   "source": [
    "# predict data train\n",
    "y_train_pred_log = log_model.predict(X_train)\n",
    "\n",
    "# print classification report\n",
    "print('Classification Report Training Model (Logistic Regression):')\n",
    "print(classification_report(y_train, y_train_pred_log))"
   ]
  },
  {
   "cell_type": "code",
   "execution_count": null,
   "id": "585026b9",
   "metadata": {},
   "outputs": [],
   "source": [
    "# form confusion matrix as a dataFrame\n",
    "confusion_matrix_log = pd.DataFrame((confusion_matrix(y_train, y_train_pred_log)), ('No Payment Difficulties', 'Payment Difficulties'), ('No Payment Difficulties', 'Payment Difficulties'))\n",
    "\n",
    "# plot confusion matrix\n",
    "plt.figure()\n",
    "heatmap = sns.heatmap(confusion_matrix_log, annot=True, annot_kws={'size': 14}, fmt='d', cmap='bone_r')\n",
    "heatmap.yaxis.set_ticklabels(heatmap.yaxis.get_ticklabels(), rotation=0, ha='right', fontsize=14)\n",
    "heatmap.xaxis.set_ticklabels(heatmap.xaxis.get_ticklabels(), rotation=0, ha='right', fontsize=14)\n",
    "\n",
    "plt.title('Confusion Matrix for Training Model\\n(Logistic Regression)\\n', fontsize=18, color='black')\n",
    "plt.ylabel('True label', fontsize=14)\n",
    "plt.xlabel('Predicted label', fontsize=14)\n",
    "plt.show()"
   ]
  },
  {
   "cell_type": "code",
   "execution_count": null,
   "id": "e17bb591",
   "metadata": {},
   "outputs": [],
   "source": [
    "# predict data test\n",
    "y_test_pred_log = log_model.predict(X_test)\n",
    "\n",
    "# print classification report\n",
    "print('Classification Report Testing Model (Logistic Regression):')\n",
    "print(classification_report(y_test, y_test_pred_log))"
   ]
  },
  {
   "cell_type": "code",
   "execution_count": null,
   "id": "9b4c7d8d",
   "metadata": {},
   "outputs": [],
   "source": [
    "# form confusion matrix as a dataFrame\n",
    "confusion_matrix_log = pd.DataFrame((confusion_matrix(y_test, y_test_pred_log)), ('No Payment Difficulties', 'Payment Difficulties'), ('No Payment Difficulties', 'Payment Difficulties'))\n",
    "\n",
    "# plot confusion matrix\n",
    "plt.figure()\n",
    "heatmap = sns.heatmap(confusion_matrix_log, annot=True, annot_kws={'size': 14}, fmt='d', cmap='bone_r')\n",
    "heatmap.yaxis.set_ticklabels(heatmap.yaxis.get_ticklabels(), rotation=0, ha='right', fontsize=14)\n",
    "heatmap.xaxis.set_ticklabels(heatmap.xaxis.get_ticklabels(), rotation=0, ha='right', fontsize=14)\n",
    "\n",
    "plt.title('Confusion Matrix for Testing Model\\n(Logistic Regression)\\n', fontsize=18, color='black')\n",
    "plt.ylabel('True label', fontsize=14)\n",
    "plt.xlabel('Predicted label', fontsize=14)\n",
    "plt.show()"
   ]
  },
  {
   "cell_type": "code",
   "execution_count": null,
   "id": "26d5533e",
   "metadata": {},
   "outputs": [],
   "source": [
    "acc_log_train=round(log_model.score(X_train,y_train)*100,2)\n",
    "acc_log_test=round(log_model.score(X_test,y_test)*100,2)\n",
    "print(\"Training Accuracy: % {}\".format(acc_log_train))\n",
    "print(\"Test Accuracy: % {}\".format(acc_log_test))"
   ]
  },
  {
   "cell_type": "markdown",
   "id": "75173058",
   "metadata": {},
   "source": [
    "It can be seen that:\n",
    "- Logistic regression model gives 67.16% correct results.\n",
    "- There is 0.13% error margin."
   ]
  },
  {
   "cell_type": "code",
   "execution_count": null,
   "id": "3a3eedbe",
   "metadata": {},
   "outputs": [],
   "source": [
    "# ROC scores\n",
    "roc_auc_log = round(roc_auc_score(y_test, y_test_pred_log),4)\n",
    "print('ROC AUC:', roc_auc_log)"
   ]
  },
  {
   "cell_type": "markdown",
   "id": "581681fa",
   "metadata": {},
   "source": [
    "#### 2. Gaussian Naive Bayes"
   ]
  },
  {
   "cell_type": "code",
   "execution_count": null,
   "id": "1ecc2505",
   "metadata": {},
   "outputs": [],
   "source": [
    "# train the model\n",
    "gnb_model = GaussianNB().fit(X_train, y_train)\n",
    "print(gnb_model)"
   ]
  },
  {
   "cell_type": "code",
   "execution_count": null,
   "id": "6c76e5b4",
   "metadata": {},
   "outputs": [],
   "source": [
    "# predict data train\n",
    "y_train_pred_gnb = gnb_model.predict(X_train)\n",
    "\n",
    "# print classification report\n",
    "print('Classification Report Training Model (Gaussian Naive Bayes):')\n",
    "print(classification_report(y_train, y_train_pred_gnb))"
   ]
  },
  {
   "cell_type": "code",
   "execution_count": null,
   "id": "b215d7e3",
   "metadata": {},
   "outputs": [],
   "source": [
    "# form confusion matrix as a dataFrame\n",
    "confusion_matrix_gnb = pd.DataFrame((confusion_matrix(y_train, y_train_pred_gnb)), ('No Payment Difficulties', 'Payment Difficulties'), ('No Payment Difficulties', 'Payment Difficulties'))\n",
    "\n",
    "# plot confusion matrix\n",
    "plt.figure()\n",
    "heatmap = sns.heatmap(confusion_matrix_gnb, annot=True, annot_kws={'size': 14}, fmt='d', cmap='bone_r')\n",
    "heatmap.yaxis.set_ticklabels(heatmap.yaxis.get_ticklabels(), rotation=0, ha='right', fontsize=14)\n",
    "heatmap.xaxis.set_ticklabels(heatmap.xaxis.get_ticklabels(), rotation=0, ha='right', fontsize=14)\n",
    "\n",
    "plt.title('Confusion Matrix for Training Model\\n(Gaussian Naive Bayes)\\n', fontsize=18, color='black')\n",
    "plt.ylabel('True label', fontsize=14)\n",
    "plt.xlabel('Predicted label', fontsize=14)\n",
    "plt.show()"
   ]
  },
  {
   "cell_type": "code",
   "execution_count": null,
   "id": "757d0451",
   "metadata": {},
   "outputs": [],
   "source": [
    "# predict data test\n",
    "y_test_pred_gnb = gnb_model.predict(X_test)\n",
    "\n",
    "# print classification report\n",
    "print('Classification Report Testing Model (Gaussian Naive Bayes):')\n",
    "print(classification_report(y_test, y_test_pred_gnb))"
   ]
  },
  {
   "cell_type": "code",
   "execution_count": null,
   "id": "95f861c5",
   "metadata": {},
   "outputs": [],
   "source": [
    "# form confusion matrix as a dataFrame\n",
    "confusion_matrix_gnb = pd.DataFrame((confusion_matrix(y_test, y_test_pred_gnb)), ('No Payment Difficulties', 'Payment Difficulties'), ('No Payment Difficulties', 'Payment Difficulties'))\n",
    "\n",
    "# plot confusion matrix\n",
    "plt.figure()\n",
    "heatmap = sns.heatmap(confusion_matrix_gnb, annot=True, annot_kws={'size': 14}, fmt='d', cmap='bone_r')\n",
    "heatmap.yaxis.set_ticklabels(heatmap.yaxis.get_ticklabels(), rotation=0, ha='right', fontsize=14)\n",
    "heatmap.xaxis.set_ticklabels(heatmap.xaxis.get_ticklabels(), rotation=0, ha='right', fontsize=14)\n",
    "\n",
    "plt.title('Confusion Matrix for Testing Model\\n(Gaussian Naive Bayes)\\n', fontsize=18, color='black')\n",
    "plt.ylabel('True label', fontsize=14)\n",
    "plt.xlabel('Predicted label', fontsize=14)\n",
    "plt.show()"
   ]
  },
  {
   "cell_type": "code",
   "execution_count": null,
   "id": "01442700",
   "metadata": {},
   "outputs": [],
   "source": [
    "acc_nb_train=round(gnb_model.score(X_train,y_train)*100,2)\n",
    "acc_nb_test=round(gnb_model.score(X_test,y_test)*100,2)\n",
    "print(\"Training Accuracy: % {}\".format(acc_nb_train))\n",
    "print(\"Test Accuracy: % {}\".format(acc_nb_test))"
   ]
  },
  {
   "cell_type": "markdown",
   "id": "abdef86a",
   "metadata": {},
   "source": [
    "It can be seen that:\n",
    "- Gaussian naive bayes model gives 60.24% correct results.\n",
    "- There is 0.15% error margin."
   ]
  },
  {
   "cell_type": "code",
   "execution_count": null,
   "id": "b75caf77",
   "metadata": {},
   "outputs": [],
   "source": [
    "# ROC scores\n",
    "roc_auc_gnb = round(roc_auc_score(y_test, y_test_pred_gnb),4)\n",
    "print('ROC AUC:', roc_auc_gnb)"
   ]
  },
  {
   "cell_type": "markdown",
   "id": "40a79f34",
   "metadata": {},
   "source": [
    "#### 3. Decision Tree"
   ]
  },
  {
   "cell_type": "code",
   "execution_count": null,
   "id": "de78b807",
   "metadata": {},
   "outputs": [],
   "source": [
    "# train the model\n",
    "dt_model = DecisionTreeClassifier().fit(X_train,y_train)\n",
    "print(dt_model)"
   ]
  },
  {
   "cell_type": "code",
   "execution_count": null,
   "id": "9797a31c",
   "metadata": {},
   "outputs": [],
   "source": [
    "# predict data train\n",
    "y_train_pred_dt = dt_model.predict(X_train)\n",
    "\n",
    "# print classification report\n",
    "print('Classification Report Training Model (Decision Tree Classifier):')\n",
    "print(classification_report(y_train, y_train_pred_dt))"
   ]
  },
  {
   "cell_type": "code",
   "execution_count": null,
   "id": "2f1d630e",
   "metadata": {},
   "outputs": [],
   "source": [
    "# form confusion matrix as a dataFrame\n",
    "confusion_matrix_dt = pd.DataFrame((confusion_matrix(y_train, y_train_pred_dt)), ('No Payment Difficulties', 'Payment Difficulties'), ('No Payment Difficulties', 'Payment Difficulties'))\n",
    "\n",
    "# plot confusion matrix\n",
    "plt.figure()\n",
    "heatmap = sns.heatmap(confusion_matrix_dt, annot=True, annot_kws={'size': 14}, fmt='d', cmap='bone_r')\n",
    "heatmap.yaxis.set_ticklabels(heatmap.yaxis.get_ticklabels(), rotation=0, ha='right', fontsize=14)\n",
    "heatmap.xaxis.set_ticklabels(heatmap.xaxis.get_ticklabels(), rotation=0, ha='right', fontsize=14)\n",
    "\n",
    "plt.title('Confusion Matrix for Training Model\\n(Decision Tree Classifier)\\n', fontsize=18, color='black')\n",
    "plt.ylabel('True label', fontsize=14)\n",
    "plt.xlabel('Predicted label', fontsize=14)\n",
    "plt.show()"
   ]
  },
  {
   "cell_type": "code",
   "execution_count": null,
   "id": "8ae2df4f",
   "metadata": {},
   "outputs": [],
   "source": [
    "# predict data test\n",
    "y_test_pred_dt = dt_model.predict(X_test)\n",
    "\n",
    "# print classification report\n",
    "print('Classification Report Testing Model (Decision Tree Classifier):')\n",
    "print(classification_report(y_test, y_test_pred_dt))"
   ]
  },
  {
   "cell_type": "code",
   "execution_count": null,
   "id": "8c4d227f",
   "metadata": {},
   "outputs": [],
   "source": [
    "# form confusion matrix as a dataFrame\n",
    "confusion_matrix_dt = pd.DataFrame((confusion_matrix(y_test, y_test_pred_dt)), ('No Payment Difficulties', 'Payment Difficulties'), ('No Payment Difficulties', 'Payment Difficulties'))\n",
    "\n",
    "# plot confusion matrix\n",
    "plt.figure()\n",
    "heatmap = sns.heatmap(confusion_matrix_dt, annot=True, annot_kws={'size': 14}, fmt='d', cmap='bone_r')\n",
    "heatmap.yaxis.set_ticklabels(heatmap.yaxis.get_ticklabels(), rotation=0, ha='right', fontsize=14)\n",
    "heatmap.xaxis.set_ticklabels(heatmap.xaxis.get_ticklabels(), rotation=0, ha='right', fontsize=14)\n",
    "\n",
    "plt.title('Confusion Matrix for Testing Model\\n(Decision Tree Classifier)\\n', fontsize=18, color='black')\n",
    "plt.ylabel('True label', fontsize=14)\n",
    "plt.xlabel('Predicted label', fontsize=14)\n",
    "plt.show()"
   ]
  },
  {
   "cell_type": "code",
   "execution_count": null,
   "id": "2ad65072",
   "metadata": {},
   "outputs": [],
   "source": [
    "acc_dt_train=round(dt_model.score(X_train,y_train)*100,2)\n",
    "acc_dt_test=round(dt_model.score(X_test,y_test)*100,2)\n",
    "print(\"Training Accuracy: % {}\".format(acc_dt_train))\n",
    "print(\"Test Accuracy: % {}\".format(acc_dt_test))"
   ]
  },
  {
   "cell_type": "markdown",
   "id": "f1d651ce",
   "metadata": {},
   "source": [
    "It can be seen that:\n",
    "- Decision tree model gives 100% correct results.\n",
    "- There is 11.74% error margin. This is not good for this data."
   ]
  },
  {
   "cell_type": "code",
   "execution_count": null,
   "id": "6e13dcd7",
   "metadata": {},
   "outputs": [],
   "source": [
    "# ROC scores\n",
    "roc_auc_dt = round(roc_auc_score(y_test, y_test_pred_dt),4)\n",
    "print('ROC AUC:', roc_auc_dt)"
   ]
  },
  {
   "cell_type": "markdown",
   "id": "6581ed91",
   "metadata": {},
   "source": [
    "#### 4. Random Forest"
   ]
  },
  {
   "cell_type": "code",
   "execution_count": null,
   "id": "5483c70e",
   "metadata": {},
   "outputs": [],
   "source": [
    "# train the model\n",
    "rf_model = RandomForestClassifier().fit(X_train, y_train)\n",
    "print(rf_model)"
   ]
  },
  {
   "cell_type": "code",
   "execution_count": null,
   "id": "723b838a",
   "metadata": {},
   "outputs": [],
   "source": [
    "# predict data train\n",
    "y_train_pred_dt = rf_model.predict(X_train)\n",
    "\n",
    "# print classification report\n",
    "print('Classification Report Training Model (Decision Tree Classifier):')\n",
    "print(classification_report(y_train, y_train_pred_dt))"
   ]
  },
  {
   "cell_type": "code",
   "execution_count": null,
   "id": "25fa0537",
   "metadata": {},
   "outputs": [],
   "source": [
    "# form confusion matrix as a dataFrame\n",
    "confusion_matrix_rf = pd.DataFrame((confusion_matrix(y_train, y_train_pred_dt)), ('No Payment Difficulties', 'Payment Difficulties'), ('No Payment Difficulties', 'Payment Difficulties'))\n",
    "\n",
    "# plot confusion matrix\n",
    "plt.figure()\n",
    "heatmap = sns.heatmap(confusion_matrix_rf, annot=True, annot_kws={'size': 14}, fmt='d', cmap='bone_r')\n",
    "heatmap.yaxis.set_ticklabels(heatmap.yaxis.get_ticklabels(), rotation=0, ha='right', fontsize=14)\n",
    "heatmap.xaxis.set_ticklabels(heatmap.xaxis.get_ticklabels(), rotation=0, ha='right', fontsize=14)\n",
    "\n",
    "plt.title('Confusion Matrix for Training Model\\n(Random Forest)\\n', fontsize=18, color='black')\n",
    "plt.ylabel('True label', fontsize=14)\n",
    "plt.xlabel('Predicted label', fontsize=14)\n",
    "plt.show()"
   ]
  },
  {
   "cell_type": "code",
   "execution_count": null,
   "id": "58fbf79b",
   "metadata": {},
   "outputs": [],
   "source": [
    "# predict data test\n",
    "y_test_pred_rf = rf_model.predict(X_test)\n",
    "from sklearn.metrics import confusion_matrix, classification_report\n",
    "\n",
    "# print classification report\n",
    "print('Classification Report Testing Model (Random Forest Classifier):')\n",
    "print(classification_report(y_test, y_test_pred_rf))"
   ]
  },
  {
   "cell_type": "code",
   "execution_count": null,
   "id": "8531dcb6",
   "metadata": {},
   "outputs": [],
   "source": [
    "# form confusion matrix as a dataFrame\n",
    "confusion_matrix_rf = pd.DataFrame((confusion_matrix(y_test, y_test_pred_rf)), ('No Payment Difficulties', 'Payment Difficulties'), ('No Payment Difficulties', 'Payment Difficulties'))\n",
    "\n",
    "# plot confusion matrix\n",
    "plt.figure()\n",
    "heatmap = sns.heatmap(confusion_matrix_rf, annot=True, annot_kws={'size': 14}, fmt='d', cmap='bone_r')\n",
    "heatmap.yaxis.set_ticklabels(heatmap.yaxis.get_ticklabels(), rotation=0, ha='right', fontsize=14)\n",
    "heatmap.xaxis.set_ticklabels(heatmap.xaxis.get_ticklabels(), rotation=0, ha='right', fontsize=14)\n",
    "\n",
    "plt.title('Confusion Matrix for Testing Model\\n(Random Forest)\\n', fontsize=18, color='black')\n",
    "plt.ylabel('True label', fontsize=14)\n",
    "plt.xlabel('Predicted label', fontsize=14)\n",
    "plt.show()"
   ]
  },
  {
   "cell_type": "code",
   "execution_count": null,
   "id": "b7e998cb",
   "metadata": {},
   "outputs": [],
   "source": [
    "acc_rf_train=round(rf_model.score(X_train,y_train)*100,2)\n",
    "acc_rf_test=round(rf_model.score(X_test,y_test)*100,2)\n",
    "print(\"Training Accuracy: % {}\".format(acc_rf_train))\n",
    "print(\"Test Accuracy: % {}\".format(acc_rf_test))"
   ]
  },
  {
   "cell_type": "markdown",
   "id": "d0d71724",
   "metadata": {},
   "source": [
    "It can be seen that:\n",
    "- Random forest model gives 100% correct results.\n",
    "- There is 0.35% error margin."
   ]
  },
  {
   "cell_type": "code",
   "execution_count": null,
   "id": "0c772268",
   "metadata": {},
   "outputs": [],
   "source": [
    "# ROC scores\n",
    "roc_auc_rf = round(roc_auc_score(y_test, y_test_pred_rf),4)\n",
    "print('ROC AUC:', roc_auc_rf)"
   ]
  },
  {
   "cell_type": "code",
   "execution_count": null,
   "id": "9d732c87",
   "metadata": {},
   "outputs": [],
   "source": [
    "# important features\n",
    "importances_rf = pd.Series(rf_model.feature_importances_, index=x_balanced.columns).sort_values(ascending=True)\n",
    "\n",
    "plt.style.use('seaborn-darkgrid')\n",
    "plt.figure(figsize=(10,10))\n",
    "fig = importances_rf.plot(kind ='barh', color ='teal')\n",
    "plt.title('Features Importance Plot\\n', fontsize=14)\n",
    "plt.show()\n",
    "\n",
    "fig.figure.tight_layout()\n",
    "fig.figure.savefig('top feature.png')"
   ]
  },
  {
   "cell_type": "markdown",
   "id": "a889831f",
   "metadata": {},
   "source": [
    "The plot above confirms that the 5 most important features are `EXT_SOURCE_2`, `EXT_SOURCE_3`, `DAYS_BIRTH`, `DAYS_ID_PUBLISH`, and `DAYS_REGISTRATION`"
   ]
  },
  {
   "cell_type": "markdown",
   "id": "8e4217cc",
   "metadata": {},
   "source": [
    "#### 5. K-Nearest Neighbors"
   ]
  },
  {
   "cell_type": "code",
   "execution_count": null,
   "id": "834e220d",
   "metadata": {},
   "outputs": [],
   "source": [
    "# train the model\n",
    "knn_model = KNeighborsClassifier().fit(X_train,y_train)\n",
    "print(knn_model)"
   ]
  },
  {
   "cell_type": "code",
   "execution_count": null,
   "id": "27a4b25c",
   "metadata": {},
   "outputs": [],
   "source": [
    "# predit data train\n",
    "y_train_pred_knn = knn_model.predict(X_train)\n",
    "\n",
    "# print classification report\n",
    "print('Classification Report Training Model (K-Nearest Neighbors):')\n",
    "print(classification_report(y_train, y_train_pred_knn))"
   ]
  },
  {
   "cell_type": "code",
   "execution_count": null,
   "id": "e3c08a62",
   "metadata": {},
   "outputs": [],
   "source": [
    "# form confusion matrix as a dataFrame\n",
    "confusion_matrix_knn = pd.DataFrame((confusion_matrix(y_train, y_train_pred_knn)), ('No Payment Difficulties', 'Payment Difficulties'), ('No Payment Difficulties', 'Payment Difficulties'))\n",
    "\n",
    "# plot confusion matrix\n",
    "plt.figure()\n",
    "heatmap = sns.heatmap(confusion_matrix_knn, annot=True, annot_kws={'size': 14}, fmt='d', cmap='bone_r')\n",
    "heatmap.yaxis.set_ticklabels(heatmap.yaxis.get_ticklabels(), rotation=0, ha='right', fontsize=14)\n",
    "heatmap.xaxis.set_ticklabels(heatmap.xaxis.get_ticklabels(), rotation=0, ha='right', fontsize=14)\n",
    "\n",
    "plt.title('Confusion Matrix for Training Model\\n(K-Nearest Neighbors)\\n', fontsize=18, color='black')\n",
    "plt.ylabel('True label', fontsize=14)\n",
    "plt.xlabel('Predicted label', fontsize=14)\n",
    "plt.show()"
   ]
  },
  {
   "cell_type": "code",
   "execution_count": null,
   "id": "c01d9402",
   "metadata": {},
   "outputs": [],
   "source": [
    "# predit data test\n",
    "y_test_pred_knn = knn_model.predict(X_test)\n",
    "\n",
    "# print classification report\n",
    "print('Classification Report Testing Model (K-Nearest Neighbors):')\n",
    "print(classification_report(y_test, y_test_pred_knn))"
   ]
  },
  {
   "cell_type": "code",
   "execution_count": null,
   "id": "d5ea5394",
   "metadata": {},
   "outputs": [],
   "source": [
    "# form confusion matrix as a dataFrame\n",
    "confusion_matrix_knn = pd.DataFrame((confusion_matrix(y_test, y_test_pred_knn)), ('No Payment Difficulties', 'Payment Difficulties'), ('No Payment Difficulties', 'Payment Difficulties'))\n",
    "\n",
    "# plot confusion matrix\n",
    "plt.figure()\n",
    "heatmap = sns.heatmap(confusion_matrix_knn, annot=True, annot_kws={'size': 14}, fmt='d', cmap='bone_r')\n",
    "heatmap.yaxis.set_ticklabels(heatmap.yaxis.get_ticklabels(), rotation=0, ha='right', fontsize=14)\n",
    "heatmap.xaxis.set_ticklabels(heatmap.xaxis.get_ticklabels(), rotation=0, ha='right', fontsize=14)\n",
    "\n",
    "plt.title('Confusion Matrix for Testing Model\\n(K-Nearest Neighbors)\\n', fontsize=18, color='black')\n",
    "plt.ylabel('True label', fontsize=14)\n",
    "plt.xlabel('Predicted label', fontsize=14)\n",
    "plt.show()"
   ]
  },
  {
   "cell_type": "code",
   "execution_count": null,
   "id": "d32602f9",
   "metadata": {},
   "outputs": [],
   "source": [
    "acc_knn_train=round(knn_model.score(X_train,y_train)*100,2)\n",
    "acc_knn_test=round(knn_model.score(X_test,y_test)*100,2)\n",
    "print(\"Training Accuracy: % {}\".format(acc_knn_train))\n",
    "print(\"Test Accuracy: % {}\".format(acc_knn_test))"
   ]
  },
  {
   "cell_type": "markdown",
   "id": "e2a8055d",
   "metadata": {},
   "source": [
    "It can be seen that:\n",
    "- K-nearest neighbor model gives 91.56% correct results.\n",
    "- There is 3.79% error margin."
   ]
  },
  {
   "cell_type": "code",
   "execution_count": null,
   "id": "ddc0089b",
   "metadata": {},
   "outputs": [],
   "source": [
    "# ROC scores\n",
    "roc_auc_knn = round(roc_auc_score(y_test, y_test_pred_knn),4)\n",
    "print('ROC AUC:', roc_auc_knn)"
   ]
  },
  {
   "cell_type": "markdown",
   "id": "4e46bafc",
   "metadata": {},
   "source": [
    "#### 6. Neural Network"
   ]
  },
  {
   "cell_type": "code",
   "execution_count": null,
   "id": "65547433",
   "metadata": {},
   "outputs": [],
   "source": [
    "# train the model\n",
    "nn_model = MLPClassifier().fit(X_train, y_train)"
   ]
  },
  {
   "cell_type": "code",
   "execution_count": null,
   "id": "3ecced0d",
   "metadata": {},
   "outputs": [],
   "source": [
    "# predit data train\n",
    "y_train_pred_nn = nn_model.predict(X_train)\n",
    "\n",
    "# print classification report\n",
    "print('Classification Report Training Model (Neural Network):')\n",
    "print(classification_report(y_train, y_train_pred_nn))"
   ]
  },
  {
   "cell_type": "code",
   "execution_count": null,
   "id": "3b823c3d",
   "metadata": {},
   "outputs": [],
   "source": [
    "# form confusion matrix as a dataFrame\n",
    "confusion_matrix_nn = pd.DataFrame((confusion_matrix(y_train, y_train_pred_nn)), ('No Payment Difficulties', 'Payment Difficulties'), ('No Payment Difficulties', 'Payment Difficulties'))\n",
    "\n",
    "# plot confusion matrix\n",
    "plt.figure()\n",
    "heatmap = sns.heatmap(confusion_matrix_nn, annot=True, annot_kws={'size': 14}, fmt='d', cmap='bone_r')\n",
    "heatmap.yaxis.set_ticklabels(heatmap.yaxis.get_ticklabels(), rotation=0, ha='right', fontsize=14)\n",
    "heatmap.xaxis.set_ticklabels(heatmap.xaxis.get_ticklabels(), rotation=0, ha='right', fontsize=14)\n",
    "\n",
    "plt.title('Confusion Matrix for Training Model\\n(Neural Network)\\n', fontsize=18, color='black')\n",
    "plt.ylabel('True label', fontsize=14)\n",
    "plt.xlabel('Predicted label', fontsize=14)\n",
    "plt.show()"
   ]
  },
  {
   "cell_type": "code",
   "execution_count": null,
   "id": "e717c6f0",
   "metadata": {},
   "outputs": [],
   "source": [
    "# predit data test\n",
    "y_test_pred_nn = nn_model.predict(X_test)\n",
    "\n",
    "# print classification report\n",
    "print('Classification Report Testing Model (Neural Network):')\n",
    "print(classification_report(y_test, y_test_pred_nn))"
   ]
  },
  {
   "cell_type": "code",
   "execution_count": null,
   "id": "9baaedd8",
   "metadata": {},
   "outputs": [],
   "source": [
    "# form confusion matrix as a dataFrame\n",
    "confusion_matrix_nn = pd.DataFrame((confusion_matrix(y_test, y_test_pred_nn)), ('No Payment Difficulties', 'Payment Difficulties'), ('No Payment Difficulties', 'Payment Difficulties'))\n",
    "\n",
    "# plot confusion matrix\n",
    "plt.figure()\n",
    "heatmap = sns.heatmap(confusion_matrix_nn, annot=True, annot_kws={'size': 14}, fmt='d', cmap='bone_r')\n",
    "heatmap.yaxis.set_ticklabels(heatmap.yaxis.get_ticklabels(), rotation=0, ha='right', fontsize=14)\n",
    "heatmap.xaxis.set_ticklabels(heatmap.xaxis.get_ticklabels(), rotation=0, ha='right', fontsize=14)\n",
    "\n",
    "plt.title('Confusion Matrix for Testing Model\\n(Neural Network)\\n', fontsize=18, color='black')\n",
    "plt.ylabel('True label', fontsize=14)\n",
    "plt.xlabel('Predicted label', fontsize=14)\n",
    "plt.show()"
   ]
  },
  {
   "cell_type": "code",
   "execution_count": null,
   "id": "7d45e9bd",
   "metadata": {},
   "outputs": [],
   "source": [
    "acc_nn_train=round(nn_model.score(X_train,y_train)*100,2)\n",
    "acc_nn_test=round(nn_model.score(X_test,y_test)*100,2)\n",
    "print(\"Training Accuracy: % {}\".format(acc_nn_train))\n",
    "print(\"Test Accuracy: % {}\".format(acc_nn_test))"
   ]
  },
  {
   "cell_type": "markdown",
   "id": "126a712b",
   "metadata": {},
   "source": [
    "It can be seen that:\n",
    "- Neural network model gives 70.01% correct results.\n",
    "- There is 0.53% error margin."
   ]
  },
  {
   "cell_type": "code",
   "execution_count": null,
   "id": "d74ea119",
   "metadata": {},
   "outputs": [],
   "source": [
    "# ROC scores\n",
    "roc_auc_nn = round(roc_auc_score(y_test, y_test_pred_nn),4)\n",
    "print('ROC AUC:', roc_auc_nn)"
   ]
  },
  {
   "cell_type": "markdown",
   "id": "7884aedc",
   "metadata": {},
   "source": [
    "### Model Selection"
   ]
  },
  {
   "cell_type": "code",
   "execution_count": null,
   "id": "274952b9",
   "metadata": {},
   "outputs": [],
   "source": [
    "results = pd.DataFrame([[\"Logistic Regression\", 0.6716, 0.6729, 0.6729],[\"Gaussian Naive Bayes\", 0.6024, 0.6039, 0.604],\n",
    "                       [\"Decision Tree\", 1, 0.8826, 0.8826],[\"Random Forest\", 1, 0.9965, 0.9965],\n",
    "                       [\"K-Nearest Neighbor\", 0.9156, 0.8807, 0.8806], [\"Neural Network\", 0.7001, 0.6948, 0.6948]],\n",
    "                        columns = [\"Models\", \"Training Accuracy Score\", \"Testing Accuracy Score\", \"ROC Score\"])\n",
    "\n",
    "results.sort_values(by=['Training Accuracy Score', 'Testing Accuracy Score'], ascending=False).style.background_gradient(cmap='Blues')"
   ]
  },
  {
   "cell_type": "markdown",
   "id": "e6e10d23",
   "metadata": {},
   "source": [
    "The prediction accuracy of the train and test data in **Random Forest** model has a value that is not much different, it can be said that the model is very good, which is there is **no underfitting or overfitting**. So the Random Forest model was chosen as the **best model to predict client’s repayment abilities**."
   ]
  },
  {
   "cell_type": "markdown",
   "id": "94f73382",
   "metadata": {},
   "source": [
    "## Prediction"
   ]
  },
  {
   "cell_type": "markdown",
   "id": "5a0008eb",
   "metadata": {},
   "source": [
    "### Import Dataset"
   ]
  },
  {
   "cell_type": "code",
   "execution_count": null,
   "id": "8b00f2f4",
   "metadata": {
    "scrolled": true
   },
   "outputs": [],
   "source": [
    "# data application (test)\n",
    "df_test = pd.read_csv(\"application_test.csv\", sep=',')\n",
    "print('This dataset has %d rows dan %d columns.\\n' % df_test.shape)\n",
    "df_test.head()"
   ]
  },
  {
   "cell_type": "markdown",
   "id": "13b97cc3",
   "metadata": {},
   "source": [
    "There are total 48,744 rows which contains the information of loans and there are 121 features (without target feature)."
   ]
  },
  {
   "cell_type": "markdown",
   "id": "55967c16",
   "metadata": {},
   "source": [
    "### Data Preprocessing"
   ]
  },
  {
   "cell_type": "markdown",
   "id": "b13d733d",
   "metadata": {},
   "source": [
    "#### Detecting Duplication"
   ]
  },
  {
   "cell_type": "code",
   "execution_count": null,
   "id": "b765e9ab",
   "metadata": {},
   "outputs": [],
   "source": [
    "print('The number of duplication is:', df_test.duplicated().sum())\n",
    "# there is no duplication"
   ]
  },
  {
   "cell_type": "markdown",
   "id": "4158158c",
   "metadata": {},
   "source": [
    "#### Detecting Missing Values"
   ]
  },
  {
   "cell_type": "code",
   "execution_count": null,
   "id": "ad0ea885",
   "metadata": {
    "scrolled": false
   },
   "outputs": [],
   "source": [
    "# check for empty elements\n",
    "print('Missing values status:', df_test.isnull().values.any())\n",
    "tvc = pd.DataFrame(df_test.isnull().sum(), columns=['Total Null Values'])\n",
    "tvc['Percentage'] = (tvc['Total Null Values']/df_test.shape[0])*100\n",
    "tvc.sort_values(by=['Percentage'], ascending=False).reset_index()"
   ]
  },
  {
   "cell_type": "code",
   "execution_count": null,
   "id": "e9d29b93",
   "metadata": {},
   "outputs": [],
   "source": [
    "# drop features that have large number of missing values (± 50%)\n",
    "df_test.drop(df_test.iloc[:, 43:90], inplace=True, axis=1)\n",
    "df_test.drop(['OWN_CAR_AGE','EXT_SOURCE_1'], inplace=True, axis=1)"
   ]
  },
  {
   "cell_type": "code",
   "execution_count": null,
   "id": "84ac840d",
   "metadata": {
    "scrolled": false
   },
   "outputs": [],
   "source": [
    "# after drop some features\n",
    "print('Missing values status:', df_test.isnull().values.any())\n",
    "tvc = pd.DataFrame(df_test.isnull().sum(), columns=['Total Null Values'])\n",
    "tvc['Percentage'] = (tvc['Total Null Values']/df_test.shape[0])*100\n",
    "tvc.sort_values(by=['Percentage'], ascending=False).reset_index()"
   ]
  },
  {
   "cell_type": "code",
   "execution_count": null,
   "id": "510f30f7",
   "metadata": {},
   "outputs": [],
   "source": [
    "# impute missing values with median because the data is skewed for numerical features\n",
    "# impute missing values with mode for categorical features\n",
    "\n",
    "category_columns = df_test.select_dtypes(include=['object']).columns.tolist()\n",
    "integer_columns = df_test.select_dtypes(include=['int64','float64']).columns.tolist()\n",
    "\n",
    "for column in df_test:\n",
    "    if df_test[column].isnull().any():\n",
    "        if(column in category_columns):\n",
    "            df_test[column]=df_test[column].fillna(df_test[column].mode()[0])\n",
    "        else:\n",
    "            df_test[column]=df_test[column].fillna(df_test[column].median())"
   ]
  },
  {
   "cell_type": "code",
   "execution_count": null,
   "id": "1e107418",
   "metadata": {
    "scrolled": false
   },
   "outputs": [],
   "source": [
    "# after imputation\n",
    "print('Missing values status:', df_test.isnull().values.any())\n",
    "tvc = pd.DataFrame(df_test.isnull().sum(), columns=['Total Null Values'])\n",
    "tvc['Percentage'] = (tvc['Total Null Values']/df_test.shape[0])*100\n",
    "tvc.sort_values(by=['Percentage'], ascending=False).reset_index()"
   ]
  },
  {
   "cell_type": "markdown",
   "id": "546127f2",
   "metadata": {},
   "source": [
    "#### Label Encoding"
   ]
  },
  {
   "cell_type": "code",
   "execution_count": null,
   "id": "00606a86",
   "metadata": {},
   "outputs": [],
   "source": [
    "# label encoder for object features\n",
    "df_test[[\"CODE_GENDER\", \"NAME_CONTRACT_TYPE\", \"FLAG_OWN_CAR\", \"FLAG_OWN_REALTY\", \n",
    "          \"NAME_TYPE_SUITE\", \"NAME_INCOME_TYPE\", \"NAME_EDUCATION_TYPE\", \"NAME_FAMILY_STATUS\",\n",
    "         \"NAME_HOUSING_TYPE\", \"OCCUPATION_TYPE\", \"WEEKDAY_APPR_PROCESS_START\", \"ORGANIZATION_TYPE\"]] = df_test[[\"CODE_GENDER\", \"NAME_CONTRACT_TYPE\", \"FLAG_OWN_CAR\", \"FLAG_OWN_REALTY\", \n",
    "          \"NAME_TYPE_SUITE\", \"NAME_INCOME_TYPE\", \"NAME_EDUCATION_TYPE\", \"NAME_FAMILY_STATUS\",\n",
    "         \"NAME_HOUSING_TYPE\", \"OCCUPATION_TYPE\", \"WEEKDAY_APPR_PROCESS_START\", \"ORGANIZATION_TYPE\"]].apply(LabelEncoder().fit_transform)"
   ]
  },
  {
   "cell_type": "code",
   "execution_count": null,
   "id": "336880e5",
   "metadata": {},
   "outputs": [],
   "source": [
    "df_test.head()"
   ]
  },
  {
   "cell_type": "markdown",
   "id": "5f4a67ce",
   "metadata": {},
   "source": [
    "#### Convert Negative Values to Positive Values"
   ]
  },
  {
   "cell_type": "markdown",
   "id": "80db5733",
   "metadata": {},
   "source": [
    "The features that have negative values are `DAYS_BIRTH`, `DAYS_EMPLOYED`, `DAYS_ID_PUBLISH`, and `DAYS_REGISTRATION`, `DAYS_LAST_PHONE_CHANGE`"
   ]
  },
  {
   "cell_type": "code",
   "execution_count": null,
   "id": "26bcb0fb",
   "metadata": {},
   "outputs": [],
   "source": [
    "df_test.iloc[:,16:20] = df_test.iloc[:,16:20].abs()\n",
    "df_test.iloc[:,45] = df_test.iloc[:,45].abs()"
   ]
  },
  {
   "cell_type": "markdown",
   "id": "f8292dc8",
   "metadata": {},
   "source": [
    "### Prediction"
   ]
  },
  {
   "cell_type": "markdown",
   "id": "76a0f1d8",
   "metadata": {},
   "source": [
    "Predict client's repayment abilities on application data test with best machine learning model obtained before, i.e **Random Forest**."
   ]
  },
  {
   "cell_type": "code",
   "execution_count": null,
   "id": "41d4030d",
   "metadata": {},
   "outputs": [],
   "source": [
    "pred_test = df_test[['DAYS_EMPLOYED', 'AMT_GOODS_PRICE', 'AMT_CREDIT', \n",
    "                           'DAYS_BIRTH', 'AMT_INCOME_TOTAL', 'DAYS_REGISTRATION', \n",
    "                           'DAYS_LAST_PHONE_CHANGE', 'DAYS_ID_PUBLISH', 'AMT_ANNUITY', \n",
    "                           'ORGANIZATION_TYPE', 'NAME_INCOME_TYPE', 'REG_CITY_NOT_WORK_CITY',\n",
    "                          'CODE_GENDER', 'EXT_SOURCE_2', 'REG_CITY_NOT_LIVE_CITY', 'NAME_EDUCATION_TYPE',\n",
    "                          'DEF_30_CNT_SOCIAL_CIRCLE', 'EXT_SOURCE_3', 'DEF_60_CNT_SOCIAL_CIRCLE', 'LIVE_CITY_NOT_WORK_CITY']]\n",
    "pred_test.head()"
   ]
  },
  {
   "cell_type": "code",
   "execution_count": null,
   "id": "cd337fe0",
   "metadata": {},
   "outputs": [],
   "source": [
    "# lets predict!\n",
    "predict = pd.Series(rf_model.predict(pred_test), name = \"TARGET\").astype(int)\n",
    "results = pd.concat([df_test['SK_ID_CURR'], predict],axis = 1)\n",
    "results.to_csv(\"predict application.csv\", index = False)\n",
    "results.head()"
   ]
  },
  {
   "cell_type": "markdown",
   "id": "6fc2273f",
   "metadata": {},
   "source": [
    "## Recommendation"
   ]
  },
  {
   "cell_type": "markdown",
   "id": "5ee88520",
   "metadata": {},
   "source": [
    "1. Create a campaign so that more student, accountant, high skill tech staff, manager interested in applying for a loan\n",
    "2. Need further analysis, you can survey to find out if there is a problem if a client with maternity leaves or unemployed takes a cash loans contract. So, in the future, if there are clients with that type of income, you can recommend the right contract type so that their applications will be approved\n",
    "3. Clients who have no payment difficulties are clients in the range of 35-45 years. You can target these clients as your priority."
   ]
  },
  {
   "cell_type": "code",
   "execution_count": null,
   "id": "abcf392f",
   "metadata": {},
   "outputs": [],
   "source": []
  }
 ],
 "metadata": {
  "kernelspec": {
   "display_name": "Python 3",
   "language": "python",
   "name": "python3"
  },
  "language_info": {
   "codemirror_mode": {
    "name": "ipython",
    "version": 3
   },
   "file_extension": ".py",
   "mimetype": "text/x-python",
   "name": "python",
   "nbconvert_exporter": "python",
   "pygments_lexer": "ipython3",
   "version": "3.8.8"
  }
 },
 "nbformat": 4,
 "nbformat_minor": 5
}
